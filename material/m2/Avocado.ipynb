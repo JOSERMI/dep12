{
  "cells": [
    {
      "cell_type": "markdown",
      "metadata": {
        "id": "ZTrKop5KNbXD"
      },
      "source": [
        "# Clase de Pandas\n",
        "En esta clase aprenderemos a utilizar la librería de Pandas en Python para trabajar con datos tabulares."
      ]
    },
    {
      "cell_type": "markdown",
      "metadata": {
        "id": "3_Z7BhL8NdNe"
      },
      "source": [
        "## Introducción a Pandas\n",
        "Pandas es una librería de Python para el análisis y manipulación de datos. Es una herramienta muy poderosa y útil para trabajar con datos tabulares.\n",
        "\n",
        "Para utilizar Pandas es necesario importarlo. Generalmente se utiliza la convención de importar Pandas con el alias \"pd\":"
      ]
    },
    {
      "cell_type": "code",
      "execution_count": null,
      "metadata": {
        "id": "3Q6oIjnMNgre"
      },
      "outputs": [],
      "source": []
    },
    {
      "cell_type": "markdown",
      "metadata": {
        "id": "aMfPas4cNiVP"
      },
      "source": [
        "Lectura de datos\n",
        "Antes de poder trabajar con los datos es necesario cargarlos en nuestro entorno de trabajo. En Pandas, se pueden leer datos de varios tipos de archivos, como CSV, Excel, entre otros.\n",
        "\n",
        "Para leer un archivo CSV, utilizamos la función `read_csv()`. En este ejemplo, leeremos un archivo llamado \"avocado.csv\":"
      ]
    },
    {
      "cell_type": "code",
      "execution_count": null,
      "metadata": {
        "id": "8VMmRO6XNqTw"
      },
      "outputs": [],
      "source": []
    },
    {
      "cell_type": "markdown",
      "metadata": {
        "id": "Tkiv2ECjBngX"
      },
      "source": [
        "Realiza las siguientes tareas en el Dataset de \"avocado.csv\":\n",
        "\n",
        "1. Muestra las primeras 5 filas.\n",
        "2. Muestra información básica del DataFrame utilizando el método `info()`.\n",
        "3. Muestra estadísticas descriptivas utilizando el método `describe()`."
      ]
    },
    {
      "cell_type": "code",
      "execution_count": null,
      "metadata": {
        "id": "PPmMdNOeBwe8"
      },
      "outputs": [],
      "source": []
    },
    {
      "cell_type": "markdown",
      "metadata": {
        "id": "z3jCAugWOOWN"
      },
      "source": [
        "## Indexación y selección de datos\n",
        "Una vez que hemos cargado nuestros datos en Pandas, es posible seleccionar un subconjunto de ellos para trabajar. Pandas ofrece varias formas de hacer esto.\n",
        "\n",
        "Podemos utilizar `loc[]` para seleccionar filas y columnas por etiquetas:"
      ]
    },
    {
      "cell_type": "code",
      "execution_count": null,
      "metadata": {
        "id": "9ralZ3YZOS0d"
      },
      "outputs": [],
      "source": []
    },
    {
      "cell_type": "markdown",
      "metadata": {
        "id": "OMFlGcg1OTU2"
      },
      "source": [
        "También podemos utilizar `iloc[]` para seleccionar filas y columnas por posición:"
      ]
    },
    {
      "cell_type": "code",
      "execution_count": null,
      "metadata": {
        "id": "8DzO06B1OZ7n"
      },
      "outputs": [],
      "source": []
    },
    {
      "cell_type": "markdown",
      "metadata": {
        "id": "s9bZ36ytOcGH"
      },
      "source": [
        "## Manipulación de datos\n",
        "En Pandas, es posible manipular los datos de varias maneras. Por ejemplo, podemos crear nuevas columnas a partir de las existentes:"
      ]
    },
    {
      "cell_type": "code",
      "execution_count": null,
      "metadata": {
        "id": "1qYMQpDIOdOn"
      },
      "outputs": [],
      "source": []
    },
    {
      "cell_type": "markdown",
      "metadata": {
        "id": "SElykbuWOfv_"
      },
      "source": [
        "También podemos utilizar la función `get_dummies()` para crear variables ficticias a partir de una columna categórica:"
      ]
    },
    {
      "cell_type": "code",
      "execution_count": null,
      "metadata": {
        "id": "V7iMqKB9OhR4"
      },
      "outputs": [],
      "source": []
    },
    {
      "cell_type": "markdown",
      "metadata": {
        "id": "Ap53IvO_OD-L"
      },
      "source": [
        "## Seaborn y Matplotlib\n",
        "Seaborn y Matplotlib son bibliotecas de Python que se utilizan para la visualización de datos. Para utilizar Seaborn y Matplotlib en Python, primero debemos importarlas con los siguientes comandos:"
      ]
    },
    {
      "cell_type": "code",
      "execution_count": null,
      "metadata": {
        "id": "IW5lAscmOFMM"
      },
      "outputs": [],
      "source": []
    },
    {
      "cell_type": "markdown",
      "metadata": {
        "id": "NjHv39N-OFjU"
      },
      "source": [
        "Una vez importadas estas bibliotecas, podemos crear visualizaciones de datos como gráficos de dispersión y mapas de calor. Por ejemplo, para crear un mapa de calor de la correlación entre columnas de un DataFrame en Pandas, podemos usar el siguiente código:"
      ]
    },
    {
      "cell_type": "code",
      "execution_count": null,
      "metadata": {
        "id": "fiGThnTcOHdt"
      },
      "outputs": [],
      "source": []
    },
    {
      "cell_type": "markdown",
      "metadata": {
        "id": "lvhbOcT7Ov5i"
      },
      "source": [
        "### Análisis de datos\n",
        "Una vez que hemos manipulado y visualizado nuestros datos, podemos realizar análisis sobre ellos. Por ejemplo, podemos calcular la correlación entre variables:"
      ]
    },
    {
      "cell_type": "code",
      "execution_count": null,
      "metadata": {
        "id": "P96BIF7kOzDK"
      },
      "outputs": [],
      "source": []
    }
  ],
  "metadata": {
    "colab": {
      "provenance": []
    },
    "kernelspec": {
      "display_name": "Python 3",
      "name": "python3"
    },
    "language_info": {
      "name": "python"
    }
  },
  "nbformat": 4,
  "nbformat_minor": 0
}
