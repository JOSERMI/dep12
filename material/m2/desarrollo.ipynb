{
 "cells": [
  {
   "attachments": {},
   "cell_type": "markdown",
   "id": "oZdfijZyFVnP",
   "metadata": {
    "id": "oZdfijZyFVnP"
   },
   "source": [
    "# Trabajando con Pandas, MySQL y Google BigQuery\n",
    "\n",
    "En este ejercicio, vamos a aprender cómo interactuar con una base de datos MySQL utilizando Pandas y luego cargar los datos en Google BigQuery. Siga las instrucciones a continuación para completar el ejercicio."
   ]
  },
  {
   "attachments": {},
   "cell_type": "markdown",
   "id": "oswdyc6PFbVk",
   "metadata": {
    "id": "oswdyc6PFbVk"
   },
   "source": [
    "## Paso 1: Instalación de paquetes\n",
    "\n",
    "Instale los siguientes paquetes utilizando `pip`:\n",
    "\n",
    "1. mysql-connector-python\n",
    "2. google-cloud"
   ]
  },
  {
   "cell_type": "code",
   "execution_count": 3,
   "id": "dBaVCoFWFfdC",
   "metadata": {
    "id": "dBaVCoFWFfdC"
   },
   "outputs": [
    {
     "name": "stdout",
     "output_type": "stream",
     "text": [
      "Collecting mysql-connector-python\n",
      "  Downloading mysql_connector_python-8.0.33-cp37-cp37m-manylinux1_x86_64.whl (27.4 MB)\n",
      "\u001b[2K     \u001b[90m━━━━━━━━━━━━━━━━━━━━━━━━━━━━━━━━━━━━━━━━\u001b[0m \u001b[32m27.4/27.4 MB\u001b[0m \u001b[31m24.3 MB/s\u001b[0m eta \u001b[36m0:00:00\u001b[0m00:01\u001b[0m00:01\u001b[0m\n",
      "\u001b[?25hRequirement already satisfied: protobuf<=3.20.3,>=3.11.0 in /opt/conda/lib/python3.7/site-packages (from mysql-connector-python) (3.19.6)\n",
      "Installing collected packages: mysql-connector-python\n",
      "Successfully installed mysql-connector-python-8.0.33\n",
      "Collecting google-cloud\n",
      "  Downloading google_cloud-0.34.0-py2.py3-none-any.whl (1.8 kB)\n",
      "Installing collected packages: google-cloud\n",
      "Successfully installed google-cloud-0.34.0\n"
     ]
    }
   ],
   "source": [
    "!pip install mysql-connector-python\n",
    "!pip install google-cloud"
   ]
  },
  {
   "cell_type": "code",
   "execution_count": 4,
   "id": "6256f7a2-f10b-4f58-ae8b-e6dd97bc53ac",
   "metadata": {},
   "outputs": [
    {
     "name": "stdout",
     "output_type": "stream",
     "text": [
      "Collecting mysql\n",
      "  Downloading mysql-0.0.3-py3-none-any.whl (1.2 kB)\n",
      "Collecting mysqlclient (from mysql)\n",
      "  Downloading mysqlclient-2.1.1.tar.gz (88 kB)\n",
      "\u001b[2K     \u001b[90m━━━━━━━━━━━━━━━━━━━━━━━━━━━━━━━━━━━━━━━━\u001b[0m \u001b[32m88.1/88.1 kB\u001b[0m \u001b[31m6.1 MB/s\u001b[0m eta \u001b[36m0:00:00\u001b[0m\n",
      "\u001b[?25h  Preparing metadata (setup.py) ... \u001b[?25lerror\n",
      "  \u001b[1;31merror\u001b[0m: \u001b[1msubprocess-exited-with-error\u001b[0m\n",
      "  \n",
      "  \u001b[31m×\u001b[0m \u001b[32mpython setup.py egg_info\u001b[0m did not run successfully.\n",
      "  \u001b[31m│\u001b[0m exit code: \u001b[1;36m1\u001b[0m\n",
      "  \u001b[31m╰─>\u001b[0m \u001b[31m[16 lines of output]\u001b[0m\n",
      "  \u001b[31m   \u001b[0m /bin/sh: 1: mysql_config: not found\n",
      "  \u001b[31m   \u001b[0m /bin/sh: 1: mariadb_config: not found\n",
      "  \u001b[31m   \u001b[0m /bin/sh: 1: mysql_config: not found\n",
      "  \u001b[31m   \u001b[0m Traceback (most recent call last):\n",
      "  \u001b[31m   \u001b[0m   File \"<string>\", line 36, in <module>\n",
      "  \u001b[31m   \u001b[0m   File \"<pip-setuptools-caller>\", line 34, in <module>\n",
      "  \u001b[31m   \u001b[0m   File \"/var/tmp/pip-install-19rfy7j9/mysqlclient_1dd74b36859e411c81dbd791e9ba0ec3/setup.py\", line 15, in <module>\n",
      "  \u001b[31m   \u001b[0m     metadata, options = get_config()\n",
      "  \u001b[31m   \u001b[0m   File \"/var/tmp/pip-install-19rfy7j9/mysqlclient_1dd74b36859e411c81dbd791e9ba0ec3/setup_posix.py\", line 70, in get_config\n",
      "  \u001b[31m   \u001b[0m     libs = mysql_config(\"libs\")\n",
      "  \u001b[31m   \u001b[0m   File \"/var/tmp/pip-install-19rfy7j9/mysqlclient_1dd74b36859e411c81dbd791e9ba0ec3/setup_posix.py\", line 31, in mysql_config\n",
      "  \u001b[31m   \u001b[0m     raise OSError(\"{} not found\".format(_mysql_config_path))\n",
      "  \u001b[31m   \u001b[0m OSError: mysql_config not found\n",
      "  \u001b[31m   \u001b[0m mysql_config --version\n",
      "  \u001b[31m   \u001b[0m mariadb_config --version\n",
      "  \u001b[31m   \u001b[0m mysql_config --libs\n",
      "  \u001b[31m   \u001b[0m \u001b[31m[end of output]\u001b[0m\n",
      "  \n",
      "  \u001b[1;35mnote\u001b[0m: This error originates from a subprocess, and is likely not a problem with pip.\n",
      "\u001b[1;31merror\u001b[0m: \u001b[1mmetadata-generation-failed\u001b[0m\n",
      "\n",
      "\u001b[31m×\u001b[0m Encountered error while generating package metadata.\n",
      "\u001b[31m╰─>\u001b[0m See above for output.\n",
      "\n",
      "\u001b[1;35mnote\u001b[0m: This is an issue with the package mentioned above, not pip.\n",
      "\u001b[1;36mhint\u001b[0m: See above for details.\n",
      "\u001b[?25h"
     ]
    }
   ],
   "source": [
    "!pip install mysql"
   ]
  },
  {
   "cell_type": "code",
   "execution_count": null,
   "id": "12790ee7-63b9-48fe-959b-67ec9644dc23",
   "metadata": {},
   "outputs": [],
   "source": [
    "!pip install google-cloud-bigquery"
   ]
  },
  {
   "attachments": {},
   "cell_type": "markdown",
   "id": "pXLyoVLqFgpL",
   "metadata": {
    "id": "pXLyoVLqFgpL"
   },
   "source": [
    "## Paso 2: Importar paquetes necesarios\n",
    "\n",
    "Importe los siguientes paquetes:\n",
    "\n",
    "1. mysql\n",
    "2. pandas\n",
    "3. mysql.connector\n",
    "4. google.cloud.bigquery\n",
    "5. os"
   ]
  },
  {
   "cell_type": "code",
   "execution_count": 8,
   "id": "VF6Il9oZFj1c",
   "metadata": {
    "id": "VF6Il9oZFj1c"
   },
   "outputs": [],
   "source": [
    "import mysql\n",
    "import pandas as pd\n",
    "import mysql.connector as connection\n",
    "from google.cloud import bigquery\n",
    "import os"
   ]
  },
  {
   "attachments": {},
   "cell_type": "markdown",
   "id": "7zA258NLFkci",
   "metadata": {
    "id": "7zA258NLFkci"
   },
   "source": [
    "## Paso 3: Establecer la conexión con la base de datos MySQL\n",
    "\n",
    "Complete el siguiente código para establecer una conexión con la base de datos MySQL:"
   ]
  },
  {
   "attachments": {},
   "cell_type": "markdown",
   "id": "sWFXcH6jFrUL",
   "metadata": {
    "id": "sWFXcH6jFrUL"
   },
   "source": [
    "\n",
    "# Complete el siguiente código para establecer la conexión con la base de datos MySQL\n",
    "```\n",
    "mydb = mysql.connector.connect(\n",
    "    host=\"\",\n",
    "    user=\"\",\n",
    "    passwd=\"\",\n",
    "    database=\"\"\n",
    ")\n",
    "```\n",
    "\n"
   ]
  },
  {
   "cell_type": "code",
   "execution_count": 9,
   "id": "W5Lzk7KOFuVO",
   "metadata": {
    "id": "W5Lzk7KOFuVO"
   },
   "outputs": [],
   "source": [
    "mydb = mysql.connector.connect(\n",
    "    host=\"34.27.205.18\",\n",
    "    user=\"conection\",\n",
    "    passwd=\"134679\",\n",
    "    database=\"basededatos\"\n",
    ")"
   ]
  },
  {
   "attachments": {},
   "cell_type": "markdown",
   "id": "YaFj_e7lF0Kg",
   "metadata": {
    "id": "YaFj_e7lF0Kg"
   },
   "source": [
    "## Paso 4: Leer los datos de la base de datos MySQL utilizando Pandas\n",
    "\n",
    "Escriba el código para leer los datos de la tabla `payments` de la base de datos MySQL utilizando Pandas y almacenarlos en un DataFrame llamado `df`. No olvide cerrar la conexión a la base de datos después de realizar la consulta.\n"
   ]
  },
  {
   "cell_type": "code",
   "execution_count": 11,
   "id": "CLdryJrWF2PG",
   "metadata": {
    "id": "CLdryJrWF2PG"
   },
   "outputs": [
    {
     "data": {
      "text/html": [
       "<div>\n",
       "<style scoped>\n",
       "    .dataframe tbody tr th:only-of-type {\n",
       "        vertical-align: middle;\n",
       "    }\n",
       "\n",
       "    .dataframe tbody tr th {\n",
       "        vertical-align: top;\n",
       "    }\n",
       "\n",
       "    .dataframe thead th {\n",
       "        text-align: right;\n",
       "    }\n",
       "</style>\n",
       "<table border=\"1\" class=\"dataframe\">\n",
       "  <thead>\n",
       "    <tr style=\"text-align: right;\">\n",
       "      <th></th>\n",
       "      <th>customerNumber</th>\n",
       "      <th>checkNumber</th>\n",
       "      <th>paymentDate</th>\n",
       "      <th>amount</th>\n",
       "    </tr>\n",
       "  </thead>\n",
       "  <tbody>\n",
       "    <tr>\n",
       "      <th>0</th>\n",
       "      <td>103</td>\n",
       "      <td>HQ336336</td>\n",
       "      <td>2004-10-19</td>\n",
       "      <td>6066.78</td>\n",
       "    </tr>\n",
       "    <tr>\n",
       "      <th>1</th>\n",
       "      <td>103</td>\n",
       "      <td>JM555205</td>\n",
       "      <td>2003-06-05</td>\n",
       "      <td>14571.44</td>\n",
       "    </tr>\n",
       "    <tr>\n",
       "      <th>2</th>\n",
       "      <td>103</td>\n",
       "      <td>OM314933</td>\n",
       "      <td>2004-12-18</td>\n",
       "      <td>1676.14</td>\n",
       "    </tr>\n",
       "    <tr>\n",
       "      <th>3</th>\n",
       "      <td>112</td>\n",
       "      <td>BO864823</td>\n",
       "      <td>2004-12-17</td>\n",
       "      <td>14191.12</td>\n",
       "    </tr>\n",
       "    <tr>\n",
       "      <th>4</th>\n",
       "      <td>112</td>\n",
       "      <td>HQ55022</td>\n",
       "      <td>2003-06-06</td>\n",
       "      <td>32641.98</td>\n",
       "    </tr>\n",
       "  </tbody>\n",
       "</table>\n",
       "</div>"
      ],
      "text/plain": [
       "   customerNumber checkNumber paymentDate    amount\n",
       "0             103    HQ336336  2004-10-19   6066.78\n",
       "1             103    JM555205  2003-06-05  14571.44\n",
       "2             103    OM314933  2004-12-18   1676.14\n",
       "3             112    BO864823  2004-12-17  14191.12\n",
       "4             112     HQ55022  2003-06-06  32641.98"
      ]
     },
     "execution_count": 11,
     "metadata": {},
     "output_type": "execute_result"
    }
   ],
   "source": [
    "sql = 'SELECT * FROM basededatos.payments'\n",
    "df = pd.read_sql(sql, mydb)\n",
    "mydb.close()\n",
    "df.head()"
   ]
  },
  {
   "attachments": {},
   "cell_type": "markdown",
   "id": "ZbTJHPnuF4yI",
   "metadata": {
    "id": "ZbTJHPnuF4yI"
   },
   "source": [
    "## Paso 5: Configurar las credenciales de Google Cloud\n",
    "\n",
    "Agregue el archivo JSON de las credenciales de su cuenta de Google Cloud al entorno de ejecución y establezca la variable de entorno `GOOGLE_APPLICATION_CREDENTIALS` con la ruta al archivo JSON.\n"
   ]
  },
  {
   "cell_type": "code",
   "execution_count": 12,
   "id": "F_0rWVA6F5cj",
   "metadata": {
    "id": "F_0rWVA6F5cj"
   },
   "outputs": [],
   "source": [
    "os.environ['GOOGLE_APPLICATION_CREDENTIALS'] = 'service.json'"
   ]
  },
  {
   "attachments": {},
   "cell_type": "markdown",
   "id": "6HRVRXjmF6rR",
   "metadata": {
    "id": "6HRVRXjmF6rR"
   },
   "source": [
    "## Paso 6: Crear un cliente de BigQuery\n",
    "\n",
    "Escriba el código para crear un objeto cliente de BigQuery.\n"
   ]
  },
  {
   "cell_type": "code",
   "execution_count": 13,
   "id": "WuSKbz2xF9HO",
   "metadata": {
    "id": "WuSKbz2xF9HO"
   },
   "outputs": [],
   "source": [
    "client = bigquery.Client()\n",
    "# Si estas utilizando el archivo de cuenta de servicio debes crear el cliente de BigQuery de la siguiente formula\n",
    "# client = bigquery.Client.from_service_account_json('service.json')"
   ]
  },
  {
   "cell_type": "code",
   "execution_count": 14,
   "id": "e958073d-f661-45c6-a0fc-dad23bda05b6",
   "metadata": {},
   "outputs": [],
   "source": [
    "tabla_bq = 'sysven_payments_raw'\n",
    "tabla_id = 'luminous-pier-386300.dp_dtkl_raw.sysven_payments_raw'\n",
    "tabla_property = client.get_table(tabla_id)"
   ]
  },
  {
   "attachments": {},
   "cell_type": "markdown",
   "id": "R1PwRWTEF9ZD",
   "metadata": {
    "id": "R1PwRWTEF9ZD"
   },
   "source": [
    "## Paso 7: Escribir los datos del DataFrame en Google BigQuery\n",
    "\n",
    "Escriba el código necesario para escribir los datos del DataFrame `df` en la tabla `sysven_payments_raw` en Google BigQuery. Utilice la opción \"WRITE_TRUNCATE\" para sobrescribir cualquier dato existente en la tabla.\n"
   ]
  },
  {
   "cell_type": "code",
   "execution_count": 15,
   "id": "Gjfa5JD2F_PE",
   "metadata": {
    "id": "Gjfa5JD2F_PE"
   },
   "outputs": [],
   "source": [
    "job_configuration = bigquery.LoadJobConfig(\n",
    "    schema=tabla_property.schema,\n",
    "    write_disposition='WRITE_TRUNCATE'\n",
    ")"
   ]
  },
  {
   "cell_type": "code",
   "execution_count": 16,
   "id": "a8aa352a-8a2a-4988-af20-dfabaeff0a85",
   "metadata": {},
   "outputs": [],
   "source": [
    "job=client.load_table_from_dataframe(\n",
    "    df,tabla_id,job_config=job_configuration\n",
    ")"
   ]
  }
 ],
 "metadata": {
  "colab": {
   "provenance": []
  },
  "environment": {
   "kernel": "python3",
   "name": "tf2-gpu.2-8.m108",
   "type": "gcloud",
   "uri": "gcr.io/deeplearning-platform-release/tf2-gpu.2-8:m108"
  },
  "kernelspec": {
   "display_name": "Python 3 (ipykernel)",
   "language": "python",
   "name": "python3"
  },
  "language_info": {
   "codemirror_mode": {
    "name": "ipython",
    "version": 3
   },
   "file_extension": ".py",
   "mimetype": "text/x-python",
   "name": "python",
   "nbconvert_exporter": "python",
   "pygments_lexer": "ipython3",
   "version": "3.7.12"
  }
 },
 "nbformat": 4,
 "nbformat_minor": 5
}
