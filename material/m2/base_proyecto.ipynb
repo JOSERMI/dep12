{
  "cells": [
    {
      "cell_type": "markdown",
      "source": [
        "# Trabajando con Pandas, MySQL y Google BigQuery\n",
        "\n",
        "En este ejercicio, vamos a aprender cómo interactuar con una base de datos MySQL utilizando Pandas y luego cargar los datos en Google BigQuery. Siga las instrucciones a continuación para completar el ejercicio."
      ],
      "metadata": {
        "id": "oZdfijZyFVnP"
      },
      "id": "oZdfijZyFVnP"
    },
    {
      "cell_type": "markdown",
      "source": [
        "## Paso 1: Instalación de paquetes\n",
        "\n",
        "Instale los siguientes paquetes utilizando `pip`:\n",
        "\n",
        "1. mysql-connector-python\n",
        "2. google-cloud"
      ],
      "metadata": {
        "id": "oswdyc6PFbVk"
      },
      "id": "oswdyc6PFbVk"
    },
    {
      "cell_type": "code",
      "source": [],
      "metadata": {
        "id": "dBaVCoFWFfdC"
      },
      "id": "dBaVCoFWFfdC",
      "execution_count": null,
      "outputs": []
    },
    {
      "cell_type": "markdown",
      "source": [
        "## Paso 2: Importar paquetes necesarios\n",
        "\n",
        "Importe los siguientes paquetes:\n",
        "\n",
        "1. mysql\n",
        "2. pandas\n",
        "3. mysql.connector\n",
        "4. google.cloud.bigquery\n",
        "5. os"
      ],
      "metadata": {
        "id": "pXLyoVLqFgpL"
      },
      "id": "pXLyoVLqFgpL"
    },
    {
      "cell_type": "code",
      "source": [],
      "metadata": {
        "id": "VF6Il9oZFj1c"
      },
      "id": "VF6Il9oZFj1c",
      "execution_count": null,
      "outputs": []
    },
    {
      "cell_type": "markdown",
      "source": [
        "## Paso 3: Establecer la conexión con la base de datos MySQL\n",
        "\n",
        "Complete el siguiente código para establecer una conexión con la base de datos MySQL:"
      ],
      "metadata": {
        "id": "7zA258NLFkci"
      },
      "id": "7zA258NLFkci"
    },
    {
      "cell_type": "code",
      "source": [],
      "metadata": {
        "id": "ah9E3APyFqXm"
      },
      "id": "ah9E3APyFqXm",
      "execution_count": null,
      "outputs": []
    },
    {
      "cell_type": "markdown",
      "source": [
        "\n",
        "# Complete el siguiente código para establecer la conexión con la base de datos MySQL\n",
        "```\n",
        "mydb = mysql.connector.connect(\n",
        "    host=\"\",\n",
        "    user=\"\",\n",
        "    passwd=\"\",\n",
        "    database=\"\"\n",
        ")\n",
        "```\n",
        "\n"
      ],
      "metadata": {
        "id": "sWFXcH6jFrUL"
      },
      "id": "sWFXcH6jFrUL"
    },
    {
      "cell_type": "code",
      "source": [],
      "metadata": {
        "id": "W5Lzk7KOFuVO"
      },
      "id": "W5Lzk7KOFuVO",
      "execution_count": null,
      "outputs": []
    },
    {
      "cell_type": "markdown",
      "source": [
        "## Paso 4: Leer los datos de la base de datos MySQL utilizando Pandas\n",
        "\n",
        "Escriba el código para leer los datos de la tabla `payments` de la base de datos MySQL utilizando Pandas y almacenarlos en un DataFrame llamado `df`. No olvide cerrar la conexión a la base de datos después de realizar la consulta.\n"
      ],
      "metadata": {
        "id": "YaFj_e7lF0Kg"
      },
      "id": "YaFj_e7lF0Kg"
    },
    {
      "cell_type": "code",
      "source": [],
      "metadata": {
        "id": "CLdryJrWF2PG"
      },
      "id": "CLdryJrWF2PG",
      "execution_count": null,
      "outputs": []
    },
    {
      "cell_type": "markdown",
      "source": [
        "## Paso 5: Configurar las credenciales de Google Cloud\n",
        "\n",
        "Agregue el archivo JSON de las credenciales de su cuenta de Google Cloud al entorno de ejecución y establezca la variable de entorno `GOOGLE_APPLICATION_CREDENTIALS` con la ruta al archivo JSON.\n"
      ],
      "metadata": {
        "id": "ZbTJHPnuF4yI"
      },
      "id": "ZbTJHPnuF4yI"
    },
    {
      "cell_type": "code",
      "source": [],
      "metadata": {
        "id": "F_0rWVA6F5cj"
      },
      "id": "F_0rWVA6F5cj",
      "execution_count": null,
      "outputs": []
    },
    {
      "cell_type": "markdown",
      "source": [
        "## Paso 6: Crear un cliente de BigQuery\n",
        "\n",
        "Escriba el código para crear un objeto cliente de BigQuery.\n"
      ],
      "metadata": {
        "id": "6HRVRXjmF6rR"
      },
      "id": "6HRVRXjmF6rR"
    },
    {
      "cell_type": "code",
      "source": [],
      "metadata": {
        "id": "WuSKbz2xF9HO"
      },
      "id": "WuSKbz2xF9HO",
      "execution_count": null,
      "outputs": []
    },
    {
      "cell_type": "markdown",
      "source": [
        "## Paso 7: Escribir los datos del DataFrame en Google BigQuery\n",
        "\n",
        "Escriba el código necesario para escribir los datos del DataFrame `df` en la tabla `sysven_payments_raw` en Google BigQuery. Utilice la opción \"WRITE_TRUNCATE\" para sobrescribir cualquier dato existente en la tabla.\n"
      ],
      "metadata": {
        "id": "R1PwRWTEF9ZD"
      },
      "id": "R1PwRWTEF9ZD"
    },
    {
      "cell_type": "code",
      "source": [],
      "metadata": {
        "id": "Gjfa5JD2F_PE"
      },
      "id": "Gjfa5JD2F_PE",
      "execution_count": null,
      "outputs": []
    }
  ],
  "metadata": {
    "environment": {
      "kernel": "python3",
      "name": "common-cpu.m104",
      "type": "gcloud",
      "uri": "gcr.io/deeplearning-platform-release/base-cpu:m104"
    },
    "kernelspec": {
      "display_name": "Python 3",
      "language": "python",
      "name": "python3"
    },
    "language_info": {
      "codemirror_mode": {
        "name": "ipython",
        "version": 3
      },
      "file_extension": ".py",
      "mimetype": "text/x-python",
      "name": "python",
      "nbconvert_exporter": "python",
      "pygments_lexer": "ipython3",
      "version": "3.7.12"
    },
    "colab": {
      "provenance": []
    }
  },
  "nbformat": 4,
  "nbformat_minor": 5
}