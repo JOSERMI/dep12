{
 "cells": [
  {
   "attachments": {},
   "cell_type": "markdown",
   "id": "c58b9337",
   "metadata": {},
   "source": [
    "Importa las bibliotecas pandas y numpy."
   ]
  },
  {
   "cell_type": "code",
   "execution_count": 1,
   "id": "d21083be-7cea-450c-b91f-9a95a2d61777",
   "metadata": {},
   "outputs": [],
   "source": []
  },
  {
   "attachments": {},
   "cell_type": "markdown",
   "id": "2aa36f7b",
   "metadata": {},
   "source": [
    "Lee el archivo CSV 'athlete_events.csv' y asígnalo a un DataFrame llamado df."
   ]
  },
  {
   "cell_type": "code",
   "execution_count": null,
   "id": "87e1bfc5",
   "metadata": {},
   "outputs": [],
   "source": []
  },
  {
   "attachments": {},
   "cell_type": "markdown",
   "id": "326fd303",
   "metadata": {},
   "source": [
    "Muestra las primeras 10 filas del DataFrame."
   ]
  },
  {
   "cell_type": "code",
   "execution_count": null,
   "id": "df2600be",
   "metadata": {},
   "outputs": [],
   "source": []
  },
  {
   "attachments": {},
   "cell_type": "markdown",
   "id": "bb03767c",
   "metadata": {},
   "source": [
    "Filtra el DataFrame para mostrar solo las filas donde la altura es menor a 170 y la ciudad es Barcelona, o la altura es mayor a 170 y la ciudad es Londres."
   ]
  },
  {
   "cell_type": "code",
   "execution_count": null,
   "id": "d97e747c",
   "metadata": {},
   "outputs": [],
   "source": []
  },
  {
   "attachments": {},
   "cell_type": "markdown",
   "id": "3aa7c503",
   "metadata": {},
   "source": [
    "Calcula cuántas filas cumplen con la condición de tener una altura menor a 170 y ser de la ciudad de Barcelona."
   ]
  },
  {
   "cell_type": "code",
   "execution_count": null,
   "id": "c6425f7d",
   "metadata": {},
   "outputs": [],
   "source": []
  },
  {
   "attachments": {},
   "cell_type": "markdown",
   "id": "540017c7",
   "metadata": {},
   "source": [
    "Muestra la forma (número de filas y columnas) del DataFrame."
   ]
  },
  {
   "cell_type": "code",
   "execution_count": null,
   "id": "8f079685",
   "metadata": {},
   "outputs": [],
   "source": []
  },
  {
   "attachments": {},
   "cell_type": "markdown",
   "id": "b8f222d9",
   "metadata": {},
   "source": [
    "Muestra los nombres de las columnas del DataFrame."
   ]
  },
  {
   "cell_type": "code",
   "execution_count": null,
   "id": "36f8c5d3",
   "metadata": {},
   "outputs": [],
   "source": []
  },
  {
   "attachments": {},
   "cell_type": "markdown",
   "id": "47cc69cd",
   "metadata": {},
   "source": [
    "Muestra información general sobre el DataFrame, incluyendo el tipo de dato de cada columna."
   ]
  },
  {
   "cell_type": "code",
   "execution_count": null,
   "id": "76211cd1",
   "metadata": {},
   "outputs": [],
   "source": []
  },
  {
   "attachments": {},
   "cell_type": "markdown",
   "id": "d9e77f8a",
   "metadata": {},
   "source": [
    "Muestra estadísticas descriptivas del DataFrame."
   ]
  },
  {
   "cell_type": "code",
   "execution_count": null,
   "id": "67d99598",
   "metadata": {},
   "outputs": [],
   "source": []
  },
  {
   "attachments": {},
   "cell_type": "markdown",
   "id": "e763defb",
   "metadata": {},
   "source": [
    "Muestra el tipo de dato de la columna 'Age'."
   ]
  },
  {
   "cell_type": "code",
   "execution_count": null,
   "id": "b736482f",
   "metadata": {},
   "outputs": [],
   "source": []
  },
  {
   "attachments": {},
   "cell_type": "markdown",
   "id": "35d4cc5a",
   "metadata": {},
   "source": [
    "Muestra el primer valor de la columna 'Age'."
   ]
  },
  {
   "cell_type": "code",
   "execution_count": null,
   "id": "1155108d",
   "metadata": {},
   "outputs": [],
   "source": []
  },
  {
   "attachments": {},
   "cell_type": "markdown",
   "id": "3e8b9d17",
   "metadata": {},
   "source": [
    "Calcula cuántas filas tienen valores nulos en la columna 'Age'."
   ]
  },
  {
   "cell_type": "code",
   "execution_count": null,
   "id": "5d4ef865",
   "metadata": {},
   "outputs": [],
   "source": []
  },
  {
   "attachments": {},
   "cell_type": "markdown",
   "id": "3225453c",
   "metadata": {},
   "source": [
    "Calcula cuántas filas tienen valores no nulos en la columna 'Age'."
   ]
  },
  {
   "cell_type": "code",
   "execution_count": null,
   "id": "d90326ca",
   "metadata": {},
   "outputs": [],
   "source": []
  },
  {
   "attachments": {},
   "cell_type": "markdown",
   "id": "980bb53b",
   "metadata": {},
   "source": [
    "Crea un nuevo DataFrame llamado df2 que contenga solo las filas con valores no nulos en la columna 'Age'."
   ]
  },
  {
   "cell_type": "code",
   "execution_count": null,
   "id": "db36b3f3",
   "metadata": {},
   "outputs": [],
   "source": []
  },
  {
   "attachments": {},
   "cell_type": "markdown",
   "id": "0adc7c61",
   "metadata": {},
   "source": [
    "Muestra información general sobre el DataFrame df2."
   ]
  },
  {
   "cell_type": "code",
   "execution_count": null,
   "id": "ee87dbb9",
   "metadata": {},
   "outputs": [],
   "source": []
  },
  {
   "attachments": {},
   "cell_type": "markdown",
   "id": "f4300ac8",
   "metadata": {},
   "source": [
    "Convierte el tipo de dato de la columna 'Age' en df2 a 'int64'."
   ]
  },
  {
   "cell_type": "code",
   "execution_count": null,
   "id": "0c25877c",
   "metadata": {},
   "outputs": [],
   "source": []
  },
  {
   "attachments": {},
   "cell_type": "markdown",
   "id": "cd3b561e",
   "metadata": {},
   "source": [
    "Muestra información general sobre el DataFrame df2 después de la conversión de tipos de datos."
   ]
  },
  {
   "cell_type": "code",
   "execution_count": null,
   "id": "83f63d5c",
   "metadata": {},
   "outputs": [],
   "source": []
  },
  {
   "attachments": {},
   "cell_type": "markdown",
   "id": "12279dc5",
   "metadata": {},
   "source": [
    "Calcula la edad promedio de las atletas femeninas."
   ]
  },
  {
   "cell_type": "code",
   "execution_count": null,
   "id": "e6f3c478",
   "metadata": {},
   "outputs": [],
   "source": []
  },
  {
   "attachments": {},
   "cell_type": "markdown",
   "id": "e898bcea",
   "metadata": {},
   "source": [
    "Calcula el porcentaje de hombres y mujeres en los Juegos Olímpicos de Barcelona."
   ]
  },
  {
   "cell_type": "code",
   "execution_count": null,
   "id": "28678f2b",
   "metadata": {},
   "outputs": [],
   "source": []
  },
  {
   "attachments": {},
   "cell_type": "markdown",
   "id": "1714a456",
   "metadata": {},
   "source": [
    "Calcula la proporción de equipos en el DataFrame."
   ]
  },
  {
   "cell_type": "code",
   "execution_count": null,
   "id": "3cb4e0ff",
   "metadata": {},
   "outputs": [],
   "source": []
  },
  {
   "attachments": {},
   "cell_type": "markdown",
   "id": "a01be2b4",
   "metadata": {},
   "source": [
    "Encuentra el deporte del atleta más pesado en los Juegos Olímpicos de 2002."
   ]
  },
  {
   "cell_type": "code",
   "execution_count": null,
   "id": "742b71a2",
   "metadata": {},
   "outputs": [],
   "source": []
  },
  {
   "attachments": {},
   "cell_type": "markdown",
   "id": "428228fc",
   "metadata": {},
   "source": [
    "Encuentra al atleta australiano que ganó la medalla de plata en Rowing en los Juegos Olímpicos del año 2000."
   ]
  },
  {
   "cell_type": "code",
   "execution_count": null,
   "id": "2324b5a5",
   "metadata": {},
   "outputs": [],
   "source": []
  },
  {
   "attachments": {},
   "cell_type": "markdown",
   "id": "20890020",
   "metadata": {},
   "source": [
    "Muestra un resumen de las medallas ganadas por cada equipo."
   ]
  },
  {
   "cell_type": "code",
   "execution_count": null,
   "id": "19a5d71a",
   "metadata": {},
   "outputs": [],
   "source": []
  },
  {
   "attachments": {},
   "cell_type": "markdown",
   "id": "964d03d1",
   "metadata": {},
   "source": [
    "Calcula el número de atletas por equipo."
   ]
  },
  {
   "cell_type": "code",
   "execution_count": null,
   "id": "f1c297ec",
   "metadata": {},
   "outputs": [],
   "source": []
  },
  {
   "attachments": {},
   "cell_type": "markdown",
   "id": "cd52f075",
   "metadata": {},
   "source": [
    "Filtra el DataFrame para mostrar solo las filas donde la medalla es de bronce y el equipo es de Estados Unidos."
   ]
  },
  {
   "cell_type": "code",
   "execution_count": null,
   "id": "3688245b",
   "metadata": {},
   "outputs": [],
   "source": []
  }
 ],
 "metadata": {
  "kernelspec": {
   "display_name": "Python 3 (ipykernel)",
   "language": "python",
   "name": "python3"
  },
  "language_info": {
   "codemirror_mode": {
    "name": "ipython",
    "version": 3
   },
   "file_extension": ".py",
   "mimetype": "text/x-python",
   "name": "python",
   "nbconvert_exporter": "python",
   "pygments_lexer": "ipython3",
   "version": "3.9.16"
  }
 },
 "nbformat": 4,
 "nbformat_minor": 5
}
