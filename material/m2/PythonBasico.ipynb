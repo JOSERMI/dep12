{
  "cells": [
    {
      "attachments": {},
      "cell_type": "markdown",
      "id": "4ee69aa6-2703-427e-9105-76564ae05c05",
      "metadata": {
        "id": "4ee69aa6-2703-427e-9105-76564ae05c05"
      },
      "source": [
        "# Introduccion Base Python\n",
        "- Leer Librerias\n",
        "- Tipos de datos\n",
        "- Operadores\n",
        "- Funciones\n",
        "- Bucles & If Elif Else\n",
        "- Pandas y Numpy"
      ]
    },
    {
      "attachments": {},
      "cell_type": "markdown",
      "id": "7b570c1a-4638-4b8c-a9ff-e0ca98f64c28",
      "metadata": {
        "id": "7b570c1a-4638-4b8c-a9ff-e0ca98f64c28"
      },
      "source": [
        "## Leer Librerias\n",
        "Importa las librerías Pandas y Numpy con los alias comunes (pd y np)."
      ]
    },
    {
      "cell_type": "code",
      "execution_count": null,
      "id": "05a8c91f-75ab-4638-8818-f74694436cda",
      "metadata": {
        "id": "05a8c91f-75ab-4638-8818-f74694436cda"
      },
      "outputs": [],
      "source": [
        "## Leer las librerias"
      ]
    },
    {
      "attachments": {},
      "cell_type": "markdown",
      "id": "96713a94-8384-4c48-b569-6aefa2410248",
      "metadata": {
        "id": "96713a94-8384-4c48-b569-6aefa2410248"
      },
      "source": [
        "## Tipos de datos\n",
        "Crea las siguientes variables:\n",
        "1. Un entero.\n",
        "2. Un flotante.\n",
        "3. Un complejo."
      ]
    },
    {
      "cell_type": "code",
      "execution_count": null,
      "id": "4e8e46d7-538d-4894-99bf-e636e6a5b73d",
      "metadata": {
        "id": "4e8e46d7-538d-4894-99bf-e636e6a5b73d"
      },
      "outputs": [],
      "source": [
        "#numeros"
      ]
    },
    {
      "attachments": {},
      "cell_type": "markdown",
      "id": "18YTTtdP_uDu",
      "metadata": {
        "id": "18YTTtdP_uDu"
      },
      "source": [
        "**Imprime \"Hola, mundo!\"**\n",
        "\n",
        "Crea una cadena llamada `saludo` que contenga \"¡Hola, mundo Python!\" e imprímela."
      ]
    },
    {
      "cell_type": "code",
      "execution_count": null,
      "id": "529dc989-a85d-4761-96f0-8d25ed002239",
      "metadata": {
        "id": "529dc989-a85d-4761-96f0-8d25ed002239"
      },
      "outputs": [],
      "source": [
        "#cadena"
      ]
    },
    {
      "cell_type": "code",
      "execution_count": null,
      "id": "8d642b82-c62d-43ca-a79d-22b8768a382f",
      "metadata": {
        "id": "8d642b82-c62d-43ca-a79d-22b8768a382f"
      },
      "outputs": [],
      "source": [
        "#Boleanos\n",
        "verdadero = True\n",
        "Falso = False"
      ]
    },
    {
      "cell_type": "code",
      "execution_count": null,
      "id": "579ded52-a99c-44c8-88da-6387b1033076",
      "metadata": {
        "id": "579ded52-a99c-44c8-88da-6387b1033076",
        "outputId": "c4cb4e36-a0fe-443a-bd67-b6f68f73608c"
      },
      "outputs": [
        {
          "name": "stdout",
          "output_type": "stream",
          "text": [
            "True\n"
          ]
        }
      ],
      "source": [
        "print(verdadero)"
      ]
    },
    {
      "attachments": {},
      "cell_type": "markdown",
      "id": "wWWT-jvY9kjS",
      "metadata": {
        "id": "wWWT-jvY9kjS"
      },
      "source": [
        "| Tipo      | Propósito General | Mutable | Duplicados | Ordenado | Índice | Ejemplo                               |\n",
        "|-----------|-------------------|---------|------------|----------|--------|---------------------------------------|\n",
        "| Lista     | Uso general       | Sí      | Sí         | Sí       | Sí     | `['manzana', 'banana', 'naranja']`    |\n",
        "| Set       | No duplicados     | Sí      | No         | No       | No     | `{'manzana', 'banana', 'naranja'}`    |\n",
        "| Tupla     | Inmutable         | No      | Sí         | Sí       | Sí     | `('manzana', 'banana', 'naranja')`    |\n",
        "| Diccionario | Clave/Valor      | Sí      | No (claves)| No       | No     | `{'manzana': 1, 'banana': 2, 'naranja': 3}` |\n"
      ]
    },
    {
      "attachments": {},
      "cell_type": "markdown",
      "id": "9X8EIUSOpOb7",
      "metadata": {
        "id": "9X8EIUSOpOb7"
      },
      "source": [
        "Crea un diccionario llamado `user_diccionado` con las siguientes claves y valores:\n",
        "1. \"nombre\": \"Eduardo\"\n",
        "2. \"Edad\": 20\n",
        "3. \"Email\": \"eduardo@gmail.com\""
      ]
    },
    {
      "cell_type": "code",
      "execution_count": null,
      "id": "118310ec-8574-4dac-aaa2-6bdc0b4b5f0d",
      "metadata": {
        "id": "118310ec-8574-4dac-aaa2-6bdc0b4b5f0d"
      },
      "outputs": [],
      "source": [
        "#Diccionario de datos"
      ]
    },
    {
      "cell_type": "code",
      "execution_count": null,
      "id": "0c6bc105-b6d5-4e2f-9220-2fc3bb0cb543",
      "metadata": {
        "id": "0c6bc105-b6d5-4e2f-9220-2fc3bb0cb543"
      },
      "outputs": [],
      "source": [
        "#listas y tuplas\n",
        "#Las listas se direccionan con [], mientras que las tuplas se direccionan con (). \n",
        "#La Lista de Python es mutable mientras que las tuplas son inmutables."
      ]
    },
    {
      "attachments": {},
      "cell_type": "markdown",
      "id": "LNhAG__qptyJ",
      "metadata": {
        "id": "LNhAG__qptyJ"
      },
      "source": [
        "Crea una lista llamada `lista` con strings, enteros y flotantes.\n",
        "Crea una tupla llamada `tupla` con los mismos elementos."
      ]
    },
    {
      "cell_type": "code",
      "execution_count": null,
      "id": "08385e6a-e45d-47f6-ac08-d0bbfa560922",
      "metadata": {
        "id": "08385e6a-e45d-47f6-ac08-d0bbfa560922"
      },
      "outputs": [],
      "source": []
    },
    {
      "attachments": {},
      "cell_type": "markdown",
      "id": "fTEHzrlEp4TF",
      "metadata": {
        "id": "fTEHzrlEp4TF"
      },
      "source": [
        "Accede a una posición de la lista"
      ]
    },
    {
      "cell_type": "code",
      "execution_count": null,
      "id": "2e88b1ab-196d-4846-9a6c-aaa7ff40042b",
      "metadata": {
        "id": "2e88b1ab-196d-4846-9a6c-aaa7ff40042b"
      },
      "outputs": [],
      "source": []
    },
    {
      "attachments": {},
      "cell_type": "markdown",
      "id": "PrJLgQdGp8Mu",
      "metadata": {
        "id": "PrJLgQdGp8Mu"
      },
      "source": [
        "Imprime la lista"
      ]
    },
    {
      "cell_type": "code",
      "execution_count": null,
      "id": "8986a23e-6eb1-4a78-a80d-f461a818c3d1",
      "metadata": {
        "id": "8986a23e-6eb1-4a78-a80d-f461a818c3d1"
      },
      "outputs": [],
      "source": []
    },
    {
      "attachments": {},
      "cell_type": "markdown",
      "id": "8kupy1PNp-9N",
      "metadata": {
        "id": "8kupy1PNp-9N"
      },
      "source": [
        "Accede a una posición de la tupla"
      ]
    },
    {
      "cell_type": "code",
      "execution_count": null,
      "id": "05f4eced-59de-4285-88f3-dcb3f05a9cba",
      "metadata": {
        "id": "05f4eced-59de-4285-88f3-dcb3f05a9cba"
      },
      "outputs": [],
      "source": []
    },
    {
      "attachments": {},
      "cell_type": "markdown",
      "id": "eX0_8l3gqBrm",
      "metadata": {
        "id": "eX0_8l3gqBrm"
      },
      "source": [
        "Intenta cambiar un valor de la tupla"
      ]
    },
    {
      "cell_type": "code",
      "execution_count": null,
      "id": "ff33a36f-ed9e-4660-92bd-143729ef0436",
      "metadata": {
        "id": "ff33a36f-ed9e-4660-92bd-143729ef0436"
      },
      "outputs": [],
      "source": []
    },
    {
      "attachments": {},
      "cell_type": "markdown",
      "id": "gLYvTA8dyVly",
      "metadata": {
        "id": "gLYvTA8dyVly"
      },
      "source": [
        "1. Crea una lista `lista_numeros` con los siguientes números enteros: ```\n",
        "1, 2, 3, 4, 2, 3, 1, 5, 6, 7, 8, 5, 9```\n",
        "2. Crea un set `set_numeros` con los mismos números enteros del paso 1.\n",
        "3. Imprime la lista y el set. ¿Cuál es la diferencia entre ellos?"
      ]
    },
    {
      "cell_type": "code",
      "execution_count": null,
      "id": "5wNSTD1oyg1l",
      "metadata": {
        "id": "5wNSTD1oyg1l"
      },
      "outputs": [],
      "source": []
    },
    {
      "attachments": {},
      "cell_type": "markdown",
      "id": "JM0lPV5iyuer",
      "metadata": {
        "id": "JM0lPV5iyuer"
      },
      "source": [
        "1. Crea dos sets `set_a` y `set_b` con los siguientes números enteros:\n",
        "\n",
        "```\n",
        "set_a: 1, 2, 3, 4, 5\n",
        "set_b: 4, 5, 6, 7, 8\n",
        "```\n",
        "\n",
        "2. Realiza las siguientes operaciones con los sets y guarda los resultados en variables: \n",
        "- Unión de `set_a` y `set_b`\n",
        "- Intersección de `set_a` y `set_b`\n",
        "- Diferencia de `set_a` y `set_b`\n",
        "- Diferencia simétrica de `set_a` y `set_b`\n",
        "\n",
        "3. Imprime los resultados de las operaciones realizadas en el paso 2."
      ]
    },
    {
      "cell_type": "code",
      "execution_count": null,
      "id": "Y7Ip80mXzJWq",
      "metadata": {
        "id": "Y7Ip80mXzJWq"
      },
      "outputs": [],
      "source": []
    },
    {
      "attachments": {},
      "cell_type": "markdown",
      "id": "0ta1NMp_zNYS",
      "metadata": {
        "id": "0ta1NMp_zNYS"
      },
      "source": [
        "1. Añade el número 9 al `set_a`.\n",
        "2. Elimina el número 4 del `set_b`.\n",
        "3. Comprueba si el número 3 está en `set_a`.\n",
        "4. Comprueba si el número 6 está en `set_a`.\n",
        "\n",
        "Responde a las siguientes preguntas:\n",
        "\n",
        "- ¿Cuál es la principal diferencia entre las listas y los sets en Python?\n",
        "- ¿Qué ventajas ofrecen los sets sobre las listas en ciertas situaciones?"
      ]
    },
    {
      "cell_type": "code",
      "execution_count": null,
      "id": "wekF3qpOzWmq",
      "metadata": {
        "id": "wekF3qpOzWmq"
      },
      "outputs": [],
      "source": []
    },
    {
      "attachments": {},
      "cell_type": "markdown",
      "id": "07709a87-3939-4169-a224-0278c08dac6a",
      "metadata": {
        "id": "07709a87-3939-4169-a224-0278c08dac6a"
      },
      "source": [
        "## Operadores"
      ]
    },
    {
      "attachments": {},
      "cell_type": "markdown",
      "id": "6af59757-277e-48f7-9dc5-705db2f643f2",
      "metadata": {
        "id": "6af59757-277e-48f7-9dc5-705db2f643f2"
      },
      "source": [
        "### Opeadores Aritmeticos\n",
        "\n",
        "| Operador | Descripcion                   | Ejemplo        |\n",
        "| -------- | ----------------------------- | -------------- |\n",
        "| +        | Adición                       | 15 + 4 = 19    |\n",
        "| -        | Substracción                  | 15 - 4 = 11    |\n",
        "| *        | Multiplicación                | 15 * 4 = 60    |\n",
        "| /        | División                      | 15 / 4 = 3.75  |\n",
        "| %        | Módulo (resto de la división) | 15 % 4 = 3     |\n",
        "| **       | Potencia                      | 15 ** 4 = 50625|\n",
        "| //       | División entera               | 15 // 4 = 3    |"
      ]
    },
    {
      "attachments": {},
      "cell_type": "markdown",
      "id": "Fiid5OKDrNVQ",
      "metadata": {
        "id": "Fiid5OKDrNVQ"
      },
      "source": [
        "Realiza las siguientes operaciones aritméticas con los números 15 y 4:\n",
        "1. Adición\n",
        "2. Substracción\n",
        "3. Multiplicación\n",
        "4. División\n",
        "5. Módulo\n",
        "6. Potencia\n",
        "7. División entera"
      ]
    },
    {
      "cell_type": "code",
      "execution_count": null,
      "id": "ZrmG5OY4rPgv",
      "metadata": {
        "id": "ZrmG5OY4rPgv"
      },
      "outputs": [],
      "source": []
    },
    {
      "attachments": {},
      "cell_type": "markdown",
      "id": "2550cb05-f669-4349-8019-d3fc0298d204",
      "metadata": {
        "id": "2550cb05-f669-4349-8019-d3fc0298d204"
      },
      "source": [
        "### Opeadores relacionales\n",
        "\n",
        "| Operador | Descripcion                                         | Ejemplo         |\n",
        "| -------- | --------------------------------------------------- | --------------- |\n",
        "| >        | Mayor que                                           | 15 > 4: True    |\n",
        "| <        | Menor que                                           | 15 < 4: False   |\n",
        "| ==       | Igual a                                             | 15 == 4: False  |\n",
        "| >=       | Mayor o igual que                                   | 15 >= 4: True   |\n",
        "| <=       | Menor o igual que                                   | 15 <= 4: False  |\n",
        "| !=       | Diferente (no igual) a                              | 15 != 4: True   |\n"
      ]
    },
    {
      "attachments": {},
      "cell_type": "markdown",
      "id": "ATJsLAsVrS2_",
      "metadata": {
        "id": "ATJsLAsVrS2_"
      },
      "source": [
        "Verifica si las siguientes afirmaciones son verdaderas o falsas:\n",
        "1. 15 es mayor que 4\n",
        "2. 15 es menor que 4\n",
        "3. 15 es igual a 4\n",
        "4. 15 es mayor o igual a 4\n",
        "5. 15 es menor o igual a 4\n",
        "6. 15 es diferente de 4"
      ]
    },
    {
      "cell_type": "code",
      "execution_count": null,
      "id": "RBqjfHY3rVjX",
      "metadata": {
        "id": "RBqjfHY3rVjX"
      },
      "outputs": [],
      "source": []
    },
    {
      "attachments": {},
      "cell_type": "markdown",
      "id": "48db0d63-2155-4eb3-9f72-8fe87bf45a6f",
      "metadata": {
        "id": "48db0d63-2155-4eb3-9f72-8fe87bf45a6f"
      },
      "source": [
        "### Opeadores de Asignacion\n",
        "\n",
        "| Operador | Descripcion                    | Ejemplo                    |\n",
        "| -------- | ------------------------------ | -------------------------- |\n",
        "| =        | Asignación                     | a = 7                      |\n",
        "| +=       | Adición y asignación          | a += 3 (equivalente a a = a + 3)    |\n",
        "| -=       | Substracción y asignación     | a -= 2 (equivalente a a = a - 2)    |\n",
        "| *=       | Multiplicación y asignación   | a *= 4 (equivalente a a = a * 4)    |\n",
        "| /=       | División y asignación         | a /= 2 (equivalente a a = a / 2)    |\n",
        "| %=       | Módulo y asignación           | a %= 3 (equivalente a a = a % 3)    |\n",
        "| **=      | Potencia y asignación         | a **= 2 (equivalente a a = a ** 2)  |\n",
        "| //=      | División entera y asignación  | a //= 3 (equivalente a a = a // 3)  |\n"
      ]
    },
    {
      "attachments": {},
      "cell_type": "markdown",
      "id": "PMTpLQotrsfo",
      "metadata": {
        "id": "PMTpLQotrsfo"
      },
      "source": [
        "Dada la variable `a = 7`, realiza las siguientes operaciones usando operadores de asignación:\n",
        "1. Suma 3 a `a`\n",
        "2. Resta 2 a `a`\n",
        "3. Multiplica `a` por 4\n",
        "4. Divide `a` entre 2\n",
        "5. Calcula el módulo de `a` entre 3\n",
        "6. Eleva `a` al cuadrado\n",
        "7. Realiza la división entera de `a` entre 3"
      ]
    },
    {
      "cell_type": "code",
      "execution_count": null,
      "id": "po_ltaczrvLQ",
      "metadata": {
        "id": "po_ltaczrvLQ"
      },
      "outputs": [],
      "source": []
    },
    {
      "attachments": {},
      "cell_type": "markdown",
      "id": "708f929d-3c50-408a-9fb4-06400f9f068a",
      "metadata": {
        "id": "708f929d-3c50-408a-9fb4-06400f9f068a"
      },
      "source": [
        "### Operadores de Pertenencia\n",
        "\n",
        "**in** y **not in** son operadores de pertenencia.\n",
        "\n",
        "**in** devuelve True si el valor especificado se encuentra en la secuencia. En caso contrario devuelve False.\n",
        "\n",
        "**not in** devuelve True si el valor especificado no se encuentra en la secuencia. En caso contrario devuelve False.\n",
        "\n",
        "### Operadores de Identidad\n",
        "\n",
        "**is** y **is not** son operadores de identidad.\n",
        "\n",
        "**is** devuelve True si los operandos se refieren al mismo objeto. En caso contrario devuelve False.\n",
        "\n",
        "**is not** devuelve True si los operandos no se refieren al mismo objeto. En caso contrario devuelve False. "
      ]
    },
    {
      "attachments": {},
      "cell_type": "markdown",
      "id": "NV1eGEHCthGI",
      "metadata": {
        "id": "NV1eGEHCthGI"
      },
      "source": [
        "Dada la siguiente lista de frutas:\n",
        "\n",
        "\n",
        "```\n",
        "frutas = [\"manzana\", \"pera\", \"uva\", \"naranja\"]\n",
        "```\n",
        "\n",
        "1. Verificar si \"manzana\" está en la lista de frutas y mostrar el resultado.\n",
        "2. Verificar si \"banana\" no está en la lista de frutas y mostrar el resultado."
      ]
    },
    {
      "cell_type": "code",
      "execution_count": null,
      "id": "S6vly7DWtnGB",
      "metadata": {
        "id": "S6vly7DWtnGB"
      },
      "outputs": [],
      "source": []
    },
    {
      "attachments": {},
      "cell_type": "markdown",
      "id": "hbJDJN-otowQ",
      "metadata": {
        "id": "hbJDJN-otowQ"
      },
      "source": [
        "Dadas las siguientes listas:\n",
        "\n",
        "\n",
        "```\n",
        "a = [1, 2, 3]\n",
        "b = [1, 2, 3]\n",
        "c = a\n",
        "```\n",
        "\n",
        "1. Verificar si `a` y `b` son el mismo objeto y mostrar el resultado.\n",
        "2. Verificar si `a` y `c` son el mismo objeto y mostrar el resultado.\n",
        "3. Verificar si `a` y `b` no son el mismo objeto y mostrar el resultado.\n",
        "4. Verificar si `a` y `c` no son el mismo objeto y mostrar el resultado."
      ]
    },
    {
      "cell_type": "code",
      "execution_count": null,
      "id": "yvp7HlyYt3oa",
      "metadata": {
        "id": "yvp7HlyYt3oa"
      },
      "outputs": [],
      "source": []
    },
    {
      "attachments": {},
      "cell_type": "markdown",
      "id": "9X1Fh19CASfF",
      "metadata": {
        "id": "9X1Fh19CASfF"
      },
      "source": [
        "**Multiplica dos números**  \n",
        "Escribe una funcion que multiplique dos números y muestre el resultado."
      ]
    },
    {
      "cell_type": "code",
      "execution_count": null,
      "id": "defed4ec-92c7-475c-98ed-de19e3fd355b",
      "metadata": {
        "id": "defed4ec-92c7-475c-98ed-de19e3fd355b"
      },
      "outputs": [],
      "source": []
    },
    {
      "attachments": {},
      "cell_type": "markdown",
      "id": "3400436b-c9b3-4beb-be33-4c4af1abf6f9",
      "metadata": {
        "id": "3400436b-c9b3-4beb-be33-4c4af1abf6f9"
      },
      "source": [
        "## Bucles"
      ]
    },
    {
      "attachments": {},
      "cell_type": "markdown",
      "id": "wpONQwMRqgp_",
      "metadata": {
        "id": "wpONQwMRqgp_"
      },
      "source": [
        "Escribe un bucle while que imprima \"¡Hola, mundo!\" 9 veces."
      ]
    },
    {
      "cell_type": "code",
      "execution_count": null,
      "id": "6a16c786-bc2d-4173-b580-627c3a15a4f7",
      "metadata": {
        "id": "6a16c786-bc2d-4173-b580-627c3a15a4f7"
      },
      "outputs": [],
      "source": []
    },
    {
      "attachments": {},
      "cell_type": "markdown",
      "id": "I5cd_KRiqlvu",
      "metadata": {
        "id": "I5cd_KRiqlvu"
      },
      "source": [
        "Escribe un bucle for que recorra una lista de lenguajes de programación (por ejemplo: Python, C, C++, Java) e imprima cada elemento de la lista."
      ]
    },
    {
      "cell_type": "code",
      "execution_count": null,
      "id": "130a2539-e004-4f94-aaea-9cabd52c1854",
      "metadata": {
        "id": "130a2539-e004-4f94-aaea-9cabd52c1854"
      },
      "outputs": [],
      "source": []
    },
    {
      "attachments": {},
      "cell_type": "markdown",
      "id": "VkQpp2MzuJ_5",
      "metadata": {
        "id": "VkQpp2MzuJ_5"
      },
      "source": [
        "Usando un bucle `for` con `range`, imprime los números del 1 al 5."
      ]
    },
    {
      "cell_type": "code",
      "execution_count": null,
      "id": "bhZalO5huUOq",
      "metadata": {
        "id": "bhZalO5huUOq"
      },
      "outputs": [],
      "source": []
    },
    {
      "attachments": {},
      "cell_type": "markdown",
      "id": "kaDdo5ViuVS5",
      "metadata": {
        "id": "kaDdo5ViuVS5"
      },
      "source": [
        "Usando un bucle `for` con `range`, imprime los números impares del 1 al 5."
      ]
    },
    {
      "cell_type": "code",
      "execution_count": null,
      "id": "CKSHoOkVuZPx",
      "metadata": {
        "id": "CKSHoOkVuZPx"
      },
      "outputs": [],
      "source": []
    },
    {
      "attachments": {},
      "cell_type": "markdown",
      "id": "4XhYpirNub6J",
      "metadata": {
        "id": "4XhYpirNub6J"
      },
      "source": [
        "Dada la siguiente colección:\n",
        "\n",
        "\n",
        "```\n",
        "coleccion = [2, 4, 5, 7, 8, 9, 3, 4]\n",
        "```\n",
        "\n",
        "Utiliza un bucle `for` para iterar sobre la colección e imprime cada elemento hasta que encuentres el número 7. Detén la iteración cuando encuentres el número 7."
      ]
    },
    {
      "cell_type": "code",
      "execution_count": null,
      "id": "UA7_0T8zupbg",
      "metadata": {
        "id": "UA7_0T8zupbg"
      },
      "outputs": [],
      "source": []
    },
    {
      "attachments": {},
      "cell_type": "markdown",
      "id": "cIH6beH2vM22",
      "metadata": {
        "id": "cIH6beH2vM22"
      },
      "source": [
        "Dada la misma colección que en el ejercicio anterior, utiliza un bucle `for` para iterar sobre la colección e imprime solo los números pares. Usa la sentencia `continue` para evitar la impresión de números impares."
      ]
    },
    {
      "cell_type": "code",
      "execution_count": null,
      "id": "5GoLjdNkvWVB",
      "metadata": {
        "id": "5GoLjdNkvWVB"
      },
      "outputs": [],
      "source": []
    },
    {
      "attachments": {},
      "cell_type": "markdown",
      "id": "eQsFOM3CvqRA",
      "metadata": {
        "id": "eQsFOM3CvqRA"
      },
      "source": [
        "Dada la siguiente lista de números:\n",
        "\n",
        "\n",
        "```\n",
        "numeros = [1, 2, 4, 3, 5, 8, 6]\n",
        "```\n",
        "\n",
        "Usa un bucle `for` para buscar el número 3 en la lista. Si no se encuentra el número 3, imprime \"No se encontró el número 3\"."
      ]
    },
    {
      "cell_type": "code",
      "execution_count": null,
      "id": "e61kdIx9vzlz",
      "metadata": {
        "id": "e61kdIx9vzlz"
      },
      "outputs": [],
      "source": []
    },
    {
      "attachments": {},
      "cell_type": "markdown",
      "id": "S4Bbg-dmv2e6",
      "metadata": {
        "id": "S4Bbg-dmv2e6"
      },
      "source": [
        "Usa un bucle `for` con `range` para imprimir los números del 0 al 5, pero detén la iteración cuando encuentres el número 3. Usa la sentencia `break`."
      ]
    },
    {
      "cell_type": "code",
      "execution_count": null,
      "id": "X5EDtT9mv2z7",
      "metadata": {
        "id": "X5EDtT9mv2z7"
      },
      "outputs": [],
      "source": []
    },
    {
      "attachments": {},
      "cell_type": "markdown",
      "id": "-BqQYCd2v3A6",
      "metadata": {
        "id": "-BqQYCd2v3A6"
      },
      "source": [
        "Dada la variable `z` con valor 7, usa condicionales `if`, `elif` y `else` para determinar si `z` es mayor que 8, mayor que 5, mayor que 6, o ninguno de los anteriores. Imprime el resultado correspondiente."
      ]
    },
    {
      "cell_type": "code",
      "execution_count": null,
      "id": "86p9lTHNv4Jx",
      "metadata": {
        "id": "86p9lTHNv4Jx"
      },
      "outputs": [],
      "source": []
    },
    {
      "attachments": {},
      "cell_type": "markdown",
      "id": "Xmex8mQyqyqv",
      "metadata": {
        "id": "Xmex8mQyqyqv"
      },
      "source": [
        "Escribe un programa que verifique si un número `x` es par, impar, mayor que 10, menor o igual a 10 y muestre el resultado en un mensaje."
      ]
    },
    {
      "cell_type": "code",
      "execution_count": null,
      "id": "5061d222-3291-4879-93de-f1f838ccfcee",
      "metadata": {
        "id": "5061d222-3291-4879-93de-f1f838ccfcee"
      },
      "outputs": [],
      "source": []
    },
    {
      "attachments": {},
      "cell_type": "markdown",
      "id": "qHaT3buWgX7_",
      "metadata": {
        "id": "qHaT3buWgX7_"
      },
      "source": [
        "Escribe un programa que solicite al usuario ingresar un número entero. Dependiendo del número ingresado, imprime uno de los siguientes mensajes:\n",
        "\n",
        "- Si el número es divisible por 3, imprime \"Fizz\"\n",
        "- Si el número es divisible por 5, imprime \"Buzz\"\n",
        "- Si el número es divisible por 3 y 5, imprime \"FizzBuzz\"\n",
        "- Si no cumple ninguna de las condiciones anteriores, imprime el número ingresado"
      ]
    },
    {
      "cell_type": "code",
      "execution_count": null,
      "id": "xG8Fl_5ngZpp",
      "metadata": {
        "id": "xG8Fl_5ngZpp"
      },
      "outputs": [],
      "source": []
    },
    {
      "attachments": {},
      "cell_type": "markdown",
      "id": "39uMoHGJwdRJ",
      "metadata": {
        "id": "39uMoHGJwdRJ"
      },
      "source": [
        "Escribe una función que tome dos listas de números enteros y devuelva una lista que contenga solo los elementos comunes entre ambas listas (sin duplicados). Asegúrate de que la función funcione con listas de diferentes tamaños."
      ]
    },
    {
      "cell_type": "code",
      "execution_count": null,
      "id": "bma4sLfCzcpN",
      "metadata": {
        "id": "bma4sLfCzcpN"
      },
      "outputs": [],
      "source": []
    },
    {
      "attachments": {},
      "cell_type": "markdown",
      "id": "MhAqaKW7zeqr",
      "metadata": {
        "id": "MhAqaKW7zeqr"
      },
      "source": [
        "Escribe una función que tome una lista de strings que representan fechas en formato \"AAAA-MM-DD\" y devuelva la fecha más reciente."
      ]
    },
    {
      "cell_type": "code",
      "execution_count": null,
      "id": "1-y4ATrxzl-s",
      "metadata": {
        "id": "1-y4ATrxzl-s"
      },
      "outputs": [],
      "source": []
    },
    {
      "attachments": {},
      "cell_type": "markdown",
      "id": "GSMICn-uzsBb",
      "metadata": {
        "id": "GSMICn-uzsBb"
      },
      "source": [
        "Dada la siguiente lista de diccionarios que representa datos de clientes:\n",
        "\n",
        "\n",
        "\n",
        "```\n",
        "clientes = [    \n",
        "  {'id': 1, 'nombre': 'Juan', 'edad': 30, 'ciudad': 'Madrid'},    \n",
        "  {'id': 2, 'nombre': 'Laura', 'edad': 25, 'ciudad': 'Barcelona'},    \n",
        "  {'id': 3, 'nombre': 'Pedro', 'edad': 28, 'ciudad': 'Valencia'},    \n",
        "  {'id': 4, 'nombre': 'Sofía', 'edad': 24, 'ciudad': 'Madrid'},\n",
        "  ]\n",
        "```\n",
        "\n",
        "Escribe una función que tome la lista de clientes y una ciudad, y devuelva una lista con los nombres de los clientes que viven en esa ciudad."
      ]
    },
    {
      "cell_type": "code",
      "execution_count": null,
      "id": "m9IMC_BTz7L1",
      "metadata": {
        "id": "m9IMC_BTz7L1"
      },
      "outputs": [],
      "source": []
    },
    {
      "attachments": {},
      "cell_type": "markdown",
      "id": "e5Ybb9vG0BSE",
      "metadata": {
        "id": "e5Ybb9vG0BSE"
      },
      "source": [
        "Implementa una función que reciba una cadena de texto y cuente la frecuencia de cada palabra en el texto. La función debe devolver un diccionario donde las claves sean las palabras y los valores sean la frecuencia de cada palabra en el texto. Ignora las diferencias de mayúsculas y minúsculas y descarta los signos de puntuación.\n",
        "\n",
        "\n",
        "\n",
        "\n"
      ]
    },
    {
      "cell_type": "code",
      "execution_count": null,
      "id": "SNRQRaA20B2t",
      "metadata": {
        "id": "SNRQRaA20B2t"
      },
      "outputs": [],
      "source": []
    }
  ],
  "metadata": {
    "colab": {
      "provenance": []
    },
    "kernelspec": {
      "display_name": "Python 3 (ipykernel)",
      "language": "python",
      "name": "python3"
    },
    "language_info": {
      "codemirror_mode": {
        "name": "ipython",
        "version": 3
      },
      "file_extension": ".py",
      "mimetype": "text/x-python",
      "name": "python",
      "nbconvert_exporter": "python",
      "pygments_lexer": "ipython3",
      "version": "3.9.16"
    }
  },
  "nbformat": 4,
  "nbformat_minor": 5
}
