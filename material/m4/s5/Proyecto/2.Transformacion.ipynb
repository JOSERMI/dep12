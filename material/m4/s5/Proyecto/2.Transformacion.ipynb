{
 "cells": [
  {
   "cell_type": "code",
   "execution_count": 1,
   "id": "8e70e5e6-015e-48da-8750-35d3ca1da92a",
   "metadata": {
    "tags": []
   },
   "outputs": [],
   "source": [
    "from process.Extract import Extract\n",
    "from process.Transform import Transform\n",
    "from process.Load import Load\n",
    "import pandas as pd"
   ]
  },
  {
   "cell_type": "code",
   "execution_count": 2,
   "id": "181cb651-fa25-4a8d-876d-7fb0b85c5df9",
   "metadata": {
    "tags": []
   },
   "outputs": [],
   "source": [
    "extract = Extract()\n",
    "transform = Transform()\n",
    "load = Load()"
   ]
  },
  {
   "cell_type": "code",
   "execution_count": 3,
   "id": "6b4406ee-1f50-41f7-be57-3270044f9453",
   "metadata": {
    "tags": []
   },
   "outputs": [],
   "source": [
    "df_customers = extract.read_adls(\"datalake\",\"landing/customers\")\n",
    "df_orders = extract.read_adls(\"datalake\", \"landing/orders\") \n",
    "df_order_items = extract.read_adls(\"datalake\", \"landing/order_items\") \n",
    "df_departments = extract.read_adls(\"datalake\", \"landing/departments\") \n",
    "df_categories = extract.read_adls(\"datalake\",\"landing/categories\") \n",
    "df_products = extract.read_adls(\"datalake\",\"landing/products\") "
   ]
  },
  {
   "cell_type": "markdown",
   "id": "9411656f-438a-4143-8b88-a7ebd08ae65d",
   "metadata": {
    "tags": []
   },
   "source": [
    "### Transformaciones"
   ]
  },
  {
   "cell_type": "code",
   "execution_count": 6,
   "id": "57c6ccee-015f-459b-a207-cbe91e2922bd",
   "metadata": {
    "tags": []
   },
   "outputs": [],
   "source": [
    "df_enunciado1 = transform.enunciado1(df_customers, df_orders, df_order_items)"
   ]
  },
  {
   "cell_type": "code",
   "execution_count": 7,
   "id": "155d8eb4-16c2-4597-9c0e-244f70fb3083",
   "metadata": {
    "tags": []
   },
   "outputs": [
    {
     "data": {
      "text/html": [
       "<div>\n",
       "<style scoped>\n",
       "    .dataframe tbody tr th:only-of-type {\n",
       "        vertical-align: middle;\n",
       "    }\n",
       "\n",
       "    .dataframe tbody tr th {\n",
       "        vertical-align: top;\n",
       "    }\n",
       "\n",
       "    .dataframe thead th {\n",
       "        text-align: right;\n",
       "    }\n",
       "</style>\n",
       "<table border=\"1\" class=\"dataframe\">\n",
       "  <thead>\n",
       "    <tr style=\"text-align: right;\">\n",
       "      <th></th>\n",
       "      <th>customer_id</th>\n",
       "      <th>customer_fname</th>\n",
       "      <th>customer_lname</th>\n",
       "      <th>customer_email</th>\n",
       "      <th>quantity_item_total</th>\n",
       "      <th>total</th>\n",
       "    </tr>\n",
       "  </thead>\n",
       "  <tbody>\n",
       "    <tr>\n",
       "      <th>0</th>\n",
       "      <td>791</td>\n",
       "      <td>Mary</td>\n",
       "      <td>Smith</td>\n",
       "      <td>XXXXXXXXX</td>\n",
       "      <td>82</td>\n",
       "      <td>10524.17</td>\n",
       "    </tr>\n",
       "    <tr>\n",
       "      <th>1</th>\n",
       "      <td>8766</td>\n",
       "      <td>Mary</td>\n",
       "      <td>Duncan</td>\n",
       "      <td>XXXXXXXXX</td>\n",
       "      <td>87</td>\n",
       "      <td>9296.14</td>\n",
       "    </tr>\n",
       "    <tr>\n",
       "      <th>2</th>\n",
       "      <td>1657</td>\n",
       "      <td>Betty</td>\n",
       "      <td>Phillips</td>\n",
       "      <td>XXXXXXXXX</td>\n",
       "      <td>111</td>\n",
       "      <td>9223.71</td>\n",
       "    </tr>\n",
       "    <tr>\n",
       "      <th>3</th>\n",
       "      <td>2641</td>\n",
       "      <td>Betty</td>\n",
       "      <td>Spears</td>\n",
       "      <td>XXXXXXXXX</td>\n",
       "      <td>90</td>\n",
       "      <td>9130.92</td>\n",
       "    </tr>\n",
       "    <tr>\n",
       "      <th>4</th>\n",
       "      <td>1288</td>\n",
       "      <td>Evelyn</td>\n",
       "      <td>Thompson</td>\n",
       "      <td>XXXXXXXXX</td>\n",
       "      <td>89</td>\n",
       "      <td>9019.11</td>\n",
       "    </tr>\n",
       "  </tbody>\n",
       "</table>\n",
       "</div>"
      ],
      "text/plain": [
       "   customer_id customer_fname customer_lname customer_email  \\\n",
       "0          791           Mary          Smith      XXXXXXXXX   \n",
       "1         8766           Mary         Duncan      XXXXXXXXX   \n",
       "2         1657          Betty       Phillips      XXXXXXXXX   \n",
       "3         2641          Betty         Spears      XXXXXXXXX   \n",
       "4         1288         Evelyn       Thompson      XXXXXXXXX   \n",
       "\n",
       "   quantity_item_total     total  \n",
       "0                   82  10524.17  \n",
       "1                   87   9296.14  \n",
       "2                  111   9223.71  \n",
       "3                   90   9130.92  \n",
       "4                   89   9019.11  "
      ]
     },
     "execution_count": 7,
     "metadata": {},
     "output_type": "execute_result"
    }
   ],
   "source": [
    "df_enunciado1.head()"
   ]
  },
  {
   "cell_type": "code",
   "execution_count": 8,
   "id": "6a500f04-a73f-4899-aaac-758602cbcc2e",
   "metadata": {
    "tags": []
   },
   "outputs": [],
   "source": [
    "df_enunciado2 = transform.enunciado2(df_order_items, df_products,df_categories)"
   ]
  },
  {
   "cell_type": "code",
   "execution_count": 9,
   "id": "0060faf7-3e8c-44ed-a74d-27c9bcb46266",
   "metadata": {
    "tags": []
   },
   "outputs": [
    {
     "data": {
      "text/html": [
       "<div>\n",
       "<style scoped>\n",
       "    .dataframe tbody tr th:only-of-type {\n",
       "        vertical-align: middle;\n",
       "    }\n",
       "\n",
       "    .dataframe tbody tr th {\n",
       "        vertical-align: top;\n",
       "    }\n",
       "\n",
       "    .dataframe thead th {\n",
       "        text-align: right;\n",
       "    }\n",
       "</style>\n",
       "<table border=\"1\" class=\"dataframe\">\n",
       "  <thead>\n",
       "    <tr style=\"text-align: right;\">\n",
       "      <th></th>\n",
       "      <th>category_name</th>\n",
       "      <th>item_quantity</th>\n",
       "      <th>total</th>\n",
       "    </tr>\n",
       "  </thead>\n",
       "  <tbody>\n",
       "    <tr>\n",
       "      <th>0</th>\n",
       "      <td>Accessories</td>\n",
       "      <td>5349</td>\n",
       "      <td>133671</td>\n",
       "    </tr>\n",
       "    <tr>\n",
       "      <th>1</th>\n",
       "      <td>As Seen on  TV!</td>\n",
       "      <td>206</td>\n",
       "      <td>20597</td>\n",
       "    </tr>\n",
       "    <tr>\n",
       "      <th>2</th>\n",
       "      <td>Baseball &amp; Softball</td>\n",
       "      <td>1785</td>\n",
       "      <td>94057</td>\n",
       "    </tr>\n",
       "    <tr>\n",
       "      <th>3</th>\n",
       "      <td>Basketball</td>\n",
       "      <td>67</td>\n",
       "      <td>27099</td>\n",
       "    </tr>\n",
       "    <tr>\n",
       "      <th>4</th>\n",
       "      <td>Boxing &amp; MMA</td>\n",
       "      <td>1265</td>\n",
       "      <td>85205</td>\n",
       "    </tr>\n",
       "  </tbody>\n",
       "</table>\n",
       "</div>"
      ],
      "text/plain": [
       "         category_name  item_quantity   total\n",
       "0          Accessories           5349  133671\n",
       "1      As Seen on  TV!            206   20597\n",
       "2  Baseball & Softball           1785   94057\n",
       "3           Basketball             67   27099\n",
       "4         Boxing & MMA           1265   85205"
      ]
     },
     "execution_count": 9,
     "metadata": {},
     "output_type": "execute_result"
    }
   ],
   "source": [
    "df_enunciado2.head()"
   ]
  },
  {
   "cell_type": "code",
   "execution_count": 11,
   "id": "f45d05e5-724c-4b85-86a0-a0e9d69f076b",
   "metadata": {
    "tags": []
   },
   "outputs": [],
   "source": [
    "df_enunciado3 = transform.enunciado3(df_customers, df_orders, df_order_items, df_products, df_categories)"
   ]
  },
  {
   "cell_type": "code",
   "execution_count": 12,
   "id": "1118a93c-d39c-49f2-a841-f791e1aa3e2a",
   "metadata": {
    "tags": []
   },
   "outputs": [
    {
     "data": {
      "text/html": [
       "<div>\n",
       "<style scoped>\n",
       "    .dataframe tbody tr th:only-of-type {\n",
       "        vertical-align: middle;\n",
       "    }\n",
       "\n",
       "    .dataframe tbody tr th {\n",
       "        vertical-align: top;\n",
       "    }\n",
       "\n",
       "    .dataframe thead th {\n",
       "        text-align: right;\n",
       "    }\n",
       "</style>\n",
       "<table border=\"1\" class=\"dataframe\">\n",
       "  <thead>\n",
       "    <tr style=\"text-align: right;\">\n",
       "      <th></th>\n",
       "      <th>customer_city</th>\n",
       "      <th>category_name</th>\n",
       "    </tr>\n",
       "  </thead>\n",
       "  <tbody>\n",
       "    <tr>\n",
       "      <th>0</th>\n",
       "      <td>Aguadilla</td>\n",
       "      <td>Cleats</td>\n",
       "    </tr>\n",
       "    <tr>\n",
       "      <th>1</th>\n",
       "      <td>Alameda</td>\n",
       "      <td>Cleats</td>\n",
       "    </tr>\n",
       "    <tr>\n",
       "      <th>2</th>\n",
       "      <td>Albany</td>\n",
       "      <td>Women's Apparel</td>\n",
       "    </tr>\n",
       "    <tr>\n",
       "      <th>3</th>\n",
       "      <td>Albuquerque</td>\n",
       "      <td>Cleats</td>\n",
       "    </tr>\n",
       "    <tr>\n",
       "      <th>4</th>\n",
       "      <td>Algonquin</td>\n",
       "      <td>Cleats</td>\n",
       "    </tr>\n",
       "  </tbody>\n",
       "</table>\n",
       "</div>"
      ],
      "text/plain": [
       "  customer_city    category_name\n",
       "0     Aguadilla           Cleats\n",
       "1       Alameda           Cleats\n",
       "2        Albany  Women's Apparel\n",
       "3   Albuquerque           Cleats\n",
       "4     Algonquin           Cleats"
      ]
     },
     "execution_count": 12,
     "metadata": {},
     "output_type": "execute_result"
    }
   ],
   "source": [
    "df_enunciado3.head()"
   ]
  },
  {
   "cell_type": "code",
   "execution_count": 14,
   "id": "e421a2a7-fe96-4d68-b643-f5023c346b38",
   "metadata": {
    "tags": []
   },
   "outputs": [],
   "source": [
    "df_enunciado4 = transform.enunciado4(df_customers, df_orders, df_order_items, df_products, df_categories)"
   ]
  },
  {
   "cell_type": "code",
   "execution_count": 15,
   "id": "e97ec3fa-8f64-42d2-bbc5-7c7ef571430d",
   "metadata": {
    "tags": []
   },
   "outputs": [
    {
     "data": {
      "text/html": [
       "<div>\n",
       "<style scoped>\n",
       "    .dataframe tbody tr th:only-of-type {\n",
       "        vertical-align: middle;\n",
       "    }\n",
       "\n",
       "    .dataframe tbody tr th {\n",
       "        vertical-align: top;\n",
       "    }\n",
       "\n",
       "    .dataframe thead th {\n",
       "        text-align: right;\n",
       "    }\n",
       "</style>\n",
       "<table border=\"1\" class=\"dataframe\">\n",
       "  <thead>\n",
       "    <tr style=\"text-align: right;\">\n",
       "      <th></th>\n",
       "      <th>customer_city</th>\n",
       "      <th>product_name</th>\n",
       "      <th>quantity</th>\n",
       "      <th>total</th>\n",
       "    </tr>\n",
       "  </thead>\n",
       "  <tbody>\n",
       "    <tr>\n",
       "      <th>0</th>\n",
       "      <td>Caguas</td>\n",
       "      <td>Perfect Fitness Perfect Rip Deck</td>\n",
       "      <td>27291</td>\n",
       "      <td>1640787.09</td>\n",
       "    </tr>\n",
       "    <tr>\n",
       "      <th>1</th>\n",
       "      <td>Caguas</td>\n",
       "      <td>Nike Men's Dri-FIT Victory Golf Polo</td>\n",
       "      <td>23355</td>\n",
       "      <td>1167750.00</td>\n",
       "    </tr>\n",
       "    <tr>\n",
       "      <th>2</th>\n",
       "      <td>Caguas</td>\n",
       "      <td>O'Brien Men's Neoprene Life Vest</td>\n",
       "      <td>21590</td>\n",
       "      <td>1079068.20</td>\n",
       "    </tr>\n",
       "    <tr>\n",
       "      <th>3</th>\n",
       "      <td>Caguas</td>\n",
       "      <td>Nike Men's Free 5.0+ Running Shoe</td>\n",
       "      <td>13876</td>\n",
       "      <td>1363244.70</td>\n",
       "    </tr>\n",
       "    <tr>\n",
       "      <th>4</th>\n",
       "      <td>Caguas</td>\n",
       "      <td>Under Armour Girls' Toddler Spine Surge Runni</td>\n",
       "      <td>12066</td>\n",
       "      <td>482732.65</td>\n",
       "    </tr>\n",
       "  </tbody>\n",
       "</table>\n",
       "</div>"
      ],
      "text/plain": [
       "  customer_city                                   product_name  quantity  \\\n",
       "0        Caguas               Perfect Fitness Perfect Rip Deck     27291   \n",
       "1        Caguas           Nike Men's Dri-FIT Victory Golf Polo     23355   \n",
       "2        Caguas               O'Brien Men's Neoprene Life Vest     21590   \n",
       "3        Caguas              Nike Men's Free 5.0+ Running Shoe     13876   \n",
       "4        Caguas  Under Armour Girls' Toddler Spine Surge Runni     12066   \n",
       "\n",
       "        total  \n",
       "0  1640787.09  \n",
       "1  1167750.00  \n",
       "2  1079068.20  \n",
       "3  1363244.70  \n",
       "4   482732.65  "
      ]
     },
     "execution_count": 15,
     "metadata": {},
     "output_type": "execute_result"
    }
   ],
   "source": [
    "df_enunciado4.head()"
   ]
  },
  {
   "cell_type": "markdown",
   "id": "1955f6e5-7755-41e9-9813-7a7e85b78db4",
   "metadata": {},
   "source": [
    "### Carga a capa Gold"
   ]
  },
  {
   "cell_type": "code",
   "execution_count": 17,
   "id": "24bfb4ca-402c-404b-9cd0-d98330b1dec4",
   "metadata": {
    "tags": []
   },
   "outputs": [],
   "source": [
    "load.load_to_adls(df_enunciado1,\"datalake\", \"gold/df_enunciado1\")"
   ]
  },
  {
   "cell_type": "code",
   "execution_count": 18,
   "id": "45e031d4-b34f-4ae4-acf6-222a9ae31047",
   "metadata": {
    "tags": []
   },
   "outputs": [],
   "source": [
    "load.load_to_adls(df_enunciado2,\"datalake\", \"gold/df_enunciado2\")"
   ]
  },
  {
   "cell_type": "code",
   "execution_count": 19,
   "id": "6a91054c-8c9a-4159-85ee-80a26bd9d32b",
   "metadata": {
    "tags": []
   },
   "outputs": [],
   "source": [
    "load.load_to_adls(df_enunciado3,\"datalake\", \"gold/df_enunciado3\")"
   ]
  },
  {
   "cell_type": "code",
   "execution_count": 20,
   "id": "a7161608-6ba9-43da-8f5b-105cecf4351f",
   "metadata": {
    "tags": []
   },
   "outputs": [],
   "source": [
    "load.load_to_adls(df_enunciado4,\"datalake\", \"gold/df_enunciado4\")"
   ]
  }
 ],
 "metadata": {
  "kernelspec": {
   "display_name": "Python 3 (ipykernel)",
   "language": "python",
   "name": "python3"
  },
  "language_info": {
   "codemirror_mode": {
    "name": "ipython",
    "version": 3
   },
   "file_extension": ".py",
   "mimetype": "text/x-python",
   "name": "python",
   "nbconvert_exporter": "python",
   "pygments_lexer": "ipython3",
   "version": "3.9.16"
  }
 },
 "nbformat": 4,
 "nbformat_minor": 5
}
