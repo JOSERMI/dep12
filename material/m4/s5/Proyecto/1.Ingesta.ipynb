{
 "cells": [
  {
   "cell_type": "code",
   "execution_count": 1,
   "id": "8e70e5e6-015e-48da-8750-35d3ca1da92a",
   "metadata": {
    "tags": []
   },
   "outputs": [],
   "source": [
    "from process.Extract import Extract\n",
    "from process.Transform import Transform\n",
    "from process.Load import Load\n",
    "import pandas as pd"
   ]
  },
  {
   "cell_type": "code",
   "execution_count": 2,
   "id": "84aa25ab-ad78-49a8-8b98-e186eb06875a",
   "metadata": {
    "tags": []
   },
   "outputs": [],
   "source": [
    "extract = Extract()\n",
    "transform = Transform()\n",
    "load = Load()"
   ]
  },
  {
   "cell_type": "code",
   "execution_count": null,
   "id": "012b6431-ddd5-4861-bb44-772fd1e5af38",
   "metadata": {
    "tags": []
   },
   "outputs": [],
   "source": [
    "df_customers = extract.read_adls(\"source\",\"retail/customers\")\n",
    "df_orders = extract.read_adls(\"source\", \"retail/orders\") \n",
    "df_order_items = extract.read_adls(\"source\", \"retail/order_items\") \n",
    "df_departments = extract.read_adls(\"source\", \"retail/departments\") \n",
    "df_categories = extract.read_adls(\"source\",\"retail/categories\")\n",
    "df_products = extract.read_adls(\"source\",\"retail/products\") "
   ]
  },
  {
   "cell_type": "markdown",
   "id": "54b4a68c-723d-4b33-8e41-5910ddfe4a77",
   "metadata": {},
   "source": [
    "#### Load to landing zone"
   ]
  },
  {
   "cell_type": "code",
   "execution_count": 17,
   "id": "1abc68e3-d906-4306-a800-0bfb04f38182",
   "metadata": {
    "tags": []
   },
   "outputs": [],
   "source": [
    "load.load_to_adls(df_departments, 'datalake', 'landing/departments')"
   ]
  },
  {
   "cell_type": "code",
   "execution_count": 18,
   "id": "af0b0d4f-8de3-4d52-b4f2-3214f6254fc3",
   "metadata": {
    "tags": []
   },
   "outputs": [],
   "source": [
    "load.load_to_adls(df_categories, 'datalake','landing/categories')"
   ]
  },
  {
   "cell_type": "code",
   "execution_count": 19,
   "id": "f4cf7d24-e424-4dfb-8ea9-702d828ab7dc",
   "metadata": {
    "tags": []
   },
   "outputs": [],
   "source": [
    "load.load_to_adls(df_customers, 'datalake','landing/customers')"
   ]
  },
  {
   "cell_type": "code",
   "execution_count": 20,
   "id": "29becfbc-f11e-4560-acfc-b7be3da7acaa",
   "metadata": {
    "tags": []
   },
   "outputs": [],
   "source": [
    "load.load_to_adls(df_orders, 'datalake','landing/orders')"
   ]
  },
  {
   "cell_type": "code",
   "execution_count": 21,
   "id": "ba78d774-c40b-45a2-84a7-cef66896c63f",
   "metadata": {
    "tags": []
   },
   "outputs": [],
   "source": [
    "load.load_to_adls(df_order_items, 'datalake','landing/order_items')"
   ]
  },
  {
   "cell_type": "code",
   "execution_count": 22,
   "id": "b819db49-02fd-4e4a-ac78-255701969d49",
   "metadata": {
    "tags": []
   },
   "outputs": [],
   "source": [
    "load.load_to_adls(df_products, 'datalake','landing/products')"
   ]
  },
  {
   "cell_type": "code",
   "execution_count": null,
   "id": "3f4d9875-c21c-4a40-8d8f-551f19bf59f3",
   "metadata": {},
   "outputs": [],
   "source": [
    "def ingest_data(containerName, folderName, fileName):\n",
    "    df = extract.read_adls(containerName,f\"{folderName}/{fileName}\")\n",
    "    load.load_to_adls(df, 'datalake', f'landing/{fileName}')\n",
    "    "
   ]
  }
 ],
 "metadata": {
  "kernelspec": {
   "display_name": "Python 3 (ipykernel)",
   "language": "python",
   "name": "python3"
  },
  "language_info": {
   "codemirror_mode": {
    "name": "ipython",
    "version": 3
   },
   "file_extension": ".py",
   "mimetype": "text/x-python",
   "name": "python",
   "nbconvert_exporter": "python",
   "pygments_lexer": "ipython3",
   "version": "3.9.16"
  }
 },
 "nbformat": 4,
 "nbformat_minor": 5
}
