{
 "cells": [
  {
   "cell_type": "code",
   "execution_count": 24,
   "metadata": {
    "tags": []
   },
   "outputs": [
    {
     "name": "stdout",
     "output_type": "stream",
     "text": [
      "Requirement already satisfied: polars in /usr/local/lib/python3.9/site-packages (0.18.2)\n",
      "\u001b[33mWARNING: Running pip as the 'root' user can result in broken permissions and conflicting behaviour with the system package manager. It is recommended to use a virtual environment instead: https://pip.pypa.io/warnings/venv\u001b[0m\u001b[33m\n",
      "\u001b[0m\n",
      "\u001b[1m[\u001b[0m\u001b[34;49mnotice\u001b[0m\u001b[1;39;49m]\u001b[0m\u001b[39;49m A new release of pip is available: \u001b[0m\u001b[31;49m23.0.1\u001b[0m\u001b[39;49m -> \u001b[0m\u001b[32;49m23.1.2\u001b[0m\n",
      "\u001b[1m[\u001b[0m\u001b[34;49mnotice\u001b[0m\u001b[1;39;49m]\u001b[0m\u001b[39;49m To update, run: \u001b[0m\u001b[32;49mpip install --upgrade pip\u001b[0m\n"
     ]
    }
   ],
   "source": [
    "!pip install polars"
   ]
  },
  {
   "cell_type": "code",
   "execution_count": 25,
   "metadata": {
    "tags": []
   },
   "outputs": [],
   "source": [
    "import polars as pl\n",
    "import time\n",
    "# to enrich the examples in this quickstart with dates\n",
    "from datetime import datetime, timedelta \n",
    "# to generate data for the examples\n",
    "import numpy as np \n",
    "import pandas as pd"
   ]
  },
  {
   "cell_type": "code",
   "execution_count": 26,
   "metadata": {
    "tags": []
   },
   "outputs": [
    {
     "name": "stdout",
     "output_type": "stream",
     "text": [
      "shape: (3, 3)\n",
      "┌─────────┬─────────────────────┬───────┐\n",
      "│ integer ┆ date                ┆ float │\n",
      "│ ---     ┆ ---                 ┆ ---   │\n",
      "│ i64     ┆ datetime[μs]        ┆ f64   │\n",
      "╞═════════╪═════════════════════╪═══════╡\n",
      "│ 1       ┆ 2022-01-01 00:00:00 ┆ 4.0   │\n",
      "│ 2       ┆ 2022-01-02 00:00:00 ┆ 5.0   │\n",
      "│ 3       ┆ 2022-01-03 00:00:00 ┆ 6.0   │\n",
      "└─────────┴─────────────────────┴───────┘\n"
     ]
    }
   ],
   "source": [
    "dataframe = pl.DataFrame({\"integer\": [1, 2, 3], \n",
    "                          \"date\": [\n",
    "                              (datetime(2022, 1, 1)), \n",
    "                              (datetime(2022, 1, 2)), \n",
    "                              (datetime(2022, 1, 3))\n",
    "                          ], \n",
    "                          \"float\":[4.0, 5.0, 6.0]})\n",
    "\n",
    "print(dataframe)"
   ]
  },
  {
   "cell_type": "code",
   "execution_count": 27,
   "metadata": {
    "tags": []
   },
   "outputs": [],
   "source": [
    "df_pl_customer = pl.read_csv('../data/customer', separator=\"|\",has_header=False, new_columns=[\"customer_id\",\"customer_fname\",\"customer_lname\",\"customer_email\",\"customer_password\",\"customer_street\",\"customer_city\",\"customer_state\",\"customer_zipcode\"])"
   ]
  },
  {
   "cell_type": "code",
   "execution_count": 28,
   "metadata": {
    "tags": []
   },
   "outputs": [],
   "source": [
    "df_pl_orders = pl.read_csv('../data/orders',separator='|', has_header=False, new_columns=[\"order_id\",\"order_date\",\"order_customer_id\",\"order_status\"])\n"
   ]
  },
  {
   "cell_type": "code",
   "execution_count": 29,
   "metadata": {
    "tags": []
   },
   "outputs": [],
   "source": [
    "df_pl_order_items = pl.read_csv('../data/order_items',separator='|', has_header=False, new_columns=[\"order_item_id\",\"order_item_order_id\",\"order_item_product_id\",\"order_item_quantity\",\"order_item_subtotal\",\"order_item_product_price\"])\n"
   ]
  },
  {
   "cell_type": "code",
   "execution_count": 30,
   "metadata": {
    "tags": []
   },
   "outputs": [],
   "source": [
    "df_pd_customer = pd.read_csv('../data/customer', sep=\"|\",header=None, names=[\"customer_id\",\"customer_fname\",\"customer_lname\",\"customer_email\",\"customer_password\",\"customer_street\",\"customer_city\",\"customer_state\",\"customer_zipcode\"])"
   ]
  },
  {
   "cell_type": "code",
   "execution_count": 31,
   "metadata": {
    "tags": []
   },
   "outputs": [],
   "source": [
    "df_pd_orders = pd.read_csv('../data/orders',sep='|', header=None, names=[\"order_id\",\"order_date\",\"order_customer_id\",\"order_status\"])\n"
   ]
  },
  {
   "cell_type": "code",
   "execution_count": 32,
   "metadata": {
    "tags": []
   },
   "outputs": [],
   "source": [
    "df_pd_order_items = pd.read_csv('../data/order_items',sep='|', header=None, names=[\"order_item_id\",\"order_item_order_id\",\"order_item_product_id\",\"order_item_quantity\",\"order_item_subtotal\",\"order_item_product_price\"])\n"
   ]
  },
  {
   "cell_type": "code",
   "execution_count": 33,
   "metadata": {
    "tags": []
   },
   "outputs": [
    {
     "data": {
      "text/html": [
       "<div>\n",
       "<style scoped>\n",
       "    .dataframe tbody tr th:only-of-type {\n",
       "        vertical-align: middle;\n",
       "    }\n",
       "\n",
       "    .dataframe tbody tr th {\n",
       "        vertical-align: top;\n",
       "    }\n",
       "\n",
       "    .dataframe thead th {\n",
       "        text-align: right;\n",
       "    }\n",
       "</style>\n",
       "<table border=\"1\" class=\"dataframe\">\n",
       "  <thead>\n",
       "    <tr style=\"text-align: right;\">\n",
       "      <th></th>\n",
       "      <th>customer_id</th>\n",
       "      <th>customer_fname</th>\n",
       "      <th>customer_lname</th>\n",
       "      <th>customer_email</th>\n",
       "      <th>customer_password</th>\n",
       "      <th>customer_street</th>\n",
       "      <th>customer_city</th>\n",
       "      <th>customer_state</th>\n",
       "      <th>customer_zipcode</th>\n",
       "    </tr>\n",
       "  </thead>\n",
       "  <tbody>\n",
       "    <tr>\n",
       "      <th>0</th>\n",
       "      <td>1</td>\n",
       "      <td>Richard</td>\n",
       "      <td>Hernandez</td>\n",
       "      <td>XXXXXXXXX</td>\n",
       "      <td>XXXXXXXXX</td>\n",
       "      <td>6303 Heather Plaza</td>\n",
       "      <td>Brownsville</td>\n",
       "      <td>TX</td>\n",
       "      <td>78521</td>\n",
       "    </tr>\n",
       "    <tr>\n",
       "      <th>1</th>\n",
       "      <td>2</td>\n",
       "      <td>Mary</td>\n",
       "      <td>Barrett</td>\n",
       "      <td>XXXXXXXXX</td>\n",
       "      <td>XXXXXXXXX</td>\n",
       "      <td>9526 Noble Embers Ridge</td>\n",
       "      <td>Littleton</td>\n",
       "      <td>CO</td>\n",
       "      <td>80126</td>\n",
       "    </tr>\n",
       "    <tr>\n",
       "      <th>2</th>\n",
       "      <td>3</td>\n",
       "      <td>Ann</td>\n",
       "      <td>Smith</td>\n",
       "      <td>XXXXXXXXX</td>\n",
       "      <td>XXXXXXXXX</td>\n",
       "      <td>3422 Blue Pioneer Bend</td>\n",
       "      <td>Caguas</td>\n",
       "      <td>PR</td>\n",
       "      <td>725</td>\n",
       "    </tr>\n",
       "    <tr>\n",
       "      <th>3</th>\n",
       "      <td>4</td>\n",
       "      <td>Mary</td>\n",
       "      <td>Jones</td>\n",
       "      <td>XXXXXXXXX</td>\n",
       "      <td>XXXXXXXXX</td>\n",
       "      <td>8324 Little Common</td>\n",
       "      <td>San Marcos</td>\n",
       "      <td>CA</td>\n",
       "      <td>92069</td>\n",
       "    </tr>\n",
       "    <tr>\n",
       "      <th>4</th>\n",
       "      <td>5</td>\n",
       "      <td>Robert</td>\n",
       "      <td>Hudson</td>\n",
       "      <td>XXXXXXXXX</td>\n",
       "      <td>XXXXXXXXX</td>\n",
       "      <td>10 Crystal River Mall</td>\n",
       "      <td>Caguas</td>\n",
       "      <td>PR</td>\n",
       "      <td>725</td>\n",
       "    </tr>\n",
       "    <tr>\n",
       "      <th>...</th>\n",
       "      <td>...</td>\n",
       "      <td>...</td>\n",
       "      <td>...</td>\n",
       "      <td>...</td>\n",
       "      <td>...</td>\n",
       "      <td>...</td>\n",
       "      <td>...</td>\n",
       "      <td>...</td>\n",
       "      <td>...</td>\n",
       "    </tr>\n",
       "    <tr>\n",
       "      <th>12430</th>\n",
       "      <td>12431</td>\n",
       "      <td>Mary</td>\n",
       "      <td>Rios</td>\n",
       "      <td>XXXXXXXXX</td>\n",
       "      <td>XXXXXXXXX</td>\n",
       "      <td>1221 Cinder Pines</td>\n",
       "      <td>Kaneohe</td>\n",
       "      <td>HI</td>\n",
       "      <td>96744</td>\n",
       "    </tr>\n",
       "    <tr>\n",
       "      <th>12431</th>\n",
       "      <td>12432</td>\n",
       "      <td>Angela</td>\n",
       "      <td>Smith</td>\n",
       "      <td>XXXXXXXXX</td>\n",
       "      <td>XXXXXXXXX</td>\n",
       "      <td>1525 Jagged Barn Highlands</td>\n",
       "      <td>Caguas</td>\n",
       "      <td>PR</td>\n",
       "      <td>725</td>\n",
       "    </tr>\n",
       "    <tr>\n",
       "      <th>12432</th>\n",
       "      <td>12433</td>\n",
       "      <td>Benjamin</td>\n",
       "      <td>Garcia</td>\n",
       "      <td>XXXXXXXXX</td>\n",
       "      <td>XXXXXXXXX</td>\n",
       "      <td>5459 Noble Brook Landing</td>\n",
       "      <td>Levittown</td>\n",
       "      <td>NY</td>\n",
       "      <td>11756</td>\n",
       "    </tr>\n",
       "    <tr>\n",
       "      <th>12433</th>\n",
       "      <td>12434</td>\n",
       "      <td>Mary</td>\n",
       "      <td>Mills</td>\n",
       "      <td>XXXXXXXXX</td>\n",
       "      <td>XXXXXXXXX</td>\n",
       "      <td>9720 Colonial Parade</td>\n",
       "      <td>Caguas</td>\n",
       "      <td>PR</td>\n",
       "      <td>725</td>\n",
       "    </tr>\n",
       "    <tr>\n",
       "      <th>12434</th>\n",
       "      <td>12435</td>\n",
       "      <td>Laura</td>\n",
       "      <td>Horton</td>\n",
       "      <td>XXXXXXXXX</td>\n",
       "      <td>XXXXXXXXX</td>\n",
       "      <td>5736 Honey Downs</td>\n",
       "      <td>Summerville</td>\n",
       "      <td>SC</td>\n",
       "      <td>29483</td>\n",
       "    </tr>\n",
       "  </tbody>\n",
       "</table>\n",
       "<p>12435 rows × 9 columns</p>\n",
       "</div>"
      ],
      "text/plain": [
       "       customer_id customer_fname customer_lname customer_email  \\\n",
       "0                1        Richard      Hernandez      XXXXXXXXX   \n",
       "1                2           Mary        Barrett      XXXXXXXXX   \n",
       "2                3            Ann          Smith      XXXXXXXXX   \n",
       "3                4           Mary          Jones      XXXXXXXXX   \n",
       "4                5         Robert         Hudson      XXXXXXXXX   \n",
       "...            ...            ...            ...            ...   \n",
       "12430        12431           Mary           Rios      XXXXXXXXX   \n",
       "12431        12432         Angela          Smith      XXXXXXXXX   \n",
       "12432        12433       Benjamin         Garcia      XXXXXXXXX   \n",
       "12433        12434           Mary          Mills      XXXXXXXXX   \n",
       "12434        12435          Laura         Horton      XXXXXXXXX   \n",
       "\n",
       "      customer_password             customer_street customer_city  \\\n",
       "0             XXXXXXXXX          6303 Heather Plaza   Brownsville   \n",
       "1             XXXXXXXXX     9526 Noble Embers Ridge     Littleton   \n",
       "2             XXXXXXXXX      3422 Blue Pioneer Bend        Caguas   \n",
       "3             XXXXXXXXX          8324 Little Common    San Marcos   \n",
       "4             XXXXXXXXX      10 Crystal River Mall         Caguas   \n",
       "...                 ...                         ...           ...   \n",
       "12430         XXXXXXXXX           1221 Cinder Pines       Kaneohe   \n",
       "12431         XXXXXXXXX  1525 Jagged Barn Highlands        Caguas   \n",
       "12432         XXXXXXXXX    5459 Noble Brook Landing     Levittown   \n",
       "12433         XXXXXXXXX        9720 Colonial Parade        Caguas   \n",
       "12434         XXXXXXXXX            5736 Honey Downs   Summerville   \n",
       "\n",
       "      customer_state  customer_zipcode  \n",
       "0                 TX             78521  \n",
       "1                 CO             80126  \n",
       "2                 PR               725  \n",
       "3                 CA             92069  \n",
       "4                 PR               725  \n",
       "...              ...               ...  \n",
       "12430             HI             96744  \n",
       "12431             PR               725  \n",
       "12432             NY             11756  \n",
       "12433             PR               725  \n",
       "12434             SC             29483  \n",
       "\n",
       "[12435 rows x 9 columns]"
      ]
     },
     "execution_count": 33,
     "metadata": {},
     "output_type": "execute_result"
    }
   ],
   "source": [
    "df_pd_customer"
   ]
  },
  {
   "cell_type": "code",
   "execution_count": 34,
   "metadata": {
    "tags": []
   },
   "outputs": [
    {
     "name": "stdout",
     "output_type": "stream",
     "text": [
      "CPU times: user 11.3 ms, sys: 11.9 ms, total: 23.2 ms\n",
      "Wall time: 22.1 ms\n"
     ]
    },
    {
     "data": {
      "text/html": [
       "<div>\n",
       "<style scoped>\n",
       "    .dataframe tbody tr th:only-of-type {\n",
       "        vertical-align: middle;\n",
       "    }\n",
       "\n",
       "    .dataframe tbody tr th {\n",
       "        vertical-align: top;\n",
       "    }\n",
       "\n",
       "    .dataframe thead th {\n",
       "        text-align: right;\n",
       "    }\n",
       "</style>\n",
       "<table border=\"1\" class=\"dataframe\">\n",
       "  <thead>\n",
       "    <tr style=\"text-align: right;\">\n",
       "      <th></th>\n",
       "      <th>customer_id</th>\n",
       "      <th>customer_fname</th>\n",
       "      <th>customer_lname</th>\n",
       "      <th>customer_email</th>\n",
       "      <th>customer_password</th>\n",
       "      <th>customer_street</th>\n",
       "      <th>customer_city</th>\n",
       "      <th>customer_state</th>\n",
       "      <th>customer_zipcode</th>\n",
       "      <th>order_id</th>\n",
       "      <th>order_date</th>\n",
       "      <th>order_customer_id</th>\n",
       "      <th>order_status</th>\n",
       "    </tr>\n",
       "  </thead>\n",
       "  <tbody>\n",
       "    <tr>\n",
       "      <th>1</th>\n",
       "      <td>2</td>\n",
       "      <td>Mary</td>\n",
       "      <td>Barrett</td>\n",
       "      <td>XXXXXXXXX</td>\n",
       "      <td>XXXXXXXXX</td>\n",
       "      <td>9526 Noble Embers Ridge</td>\n",
       "      <td>Littleton</td>\n",
       "      <td>CO</td>\n",
       "      <td>80126</td>\n",
       "      <td>15192.0</td>\n",
       "      <td>2013-10-29 00:00:00.0</td>\n",
       "      <td>2.0</td>\n",
       "      <td>PENDING_PAYMENT</td>\n",
       "    </tr>\n",
       "    <tr>\n",
       "      <th>2</th>\n",
       "      <td>2</td>\n",
       "      <td>Mary</td>\n",
       "      <td>Barrett</td>\n",
       "      <td>XXXXXXXXX</td>\n",
       "      <td>XXXXXXXXX</td>\n",
       "      <td>9526 Noble Embers Ridge</td>\n",
       "      <td>Littleton</td>\n",
       "      <td>CO</td>\n",
       "      <td>80126</td>\n",
       "      <td>33865.0</td>\n",
       "      <td>2014-02-18 00:00:00.0</td>\n",
       "      <td>2.0</td>\n",
       "      <td>COMPLETE</td>\n",
       "    </tr>\n",
       "    <tr>\n",
       "      <th>3</th>\n",
       "      <td>2</td>\n",
       "      <td>Mary</td>\n",
       "      <td>Barrett</td>\n",
       "      <td>XXXXXXXXX</td>\n",
       "      <td>XXXXXXXXX</td>\n",
       "      <td>9526 Noble Embers Ridge</td>\n",
       "      <td>Littleton</td>\n",
       "      <td>CO</td>\n",
       "      <td>80126</td>\n",
       "      <td>57963.0</td>\n",
       "      <td>2013-08-02 00:00:00.0</td>\n",
       "      <td>2.0</td>\n",
       "      <td>ON_HOLD</td>\n",
       "    </tr>\n",
       "    <tr>\n",
       "      <th>4</th>\n",
       "      <td>2</td>\n",
       "      <td>Mary</td>\n",
       "      <td>Barrett</td>\n",
       "      <td>XXXXXXXXX</td>\n",
       "      <td>XXXXXXXXX</td>\n",
       "      <td>9526 Noble Embers Ridge</td>\n",
       "      <td>Littleton</td>\n",
       "      <td>CO</td>\n",
       "      <td>80126</td>\n",
       "      <td>67863.0</td>\n",
       "      <td>2013-11-30 00:00:00.0</td>\n",
       "      <td>2.0</td>\n",
       "      <td>COMPLETE</td>\n",
       "    </tr>\n",
       "    <tr>\n",
       "      <th>35347</th>\n",
       "      <td>6353</td>\n",
       "      <td>Mary</td>\n",
       "      <td>Rogers</td>\n",
       "      <td>XXXXXXXXX</td>\n",
       "      <td>XXXXXXXXX</td>\n",
       "      <td>9526 Noble Embers Ridge</td>\n",
       "      <td>Decatur</td>\n",
       "      <td>GA</td>\n",
       "      <td>30032</td>\n",
       "      <td>15215.0</td>\n",
       "      <td>2013-10-30 00:00:00.0</td>\n",
       "      <td>6353.0</td>\n",
       "      <td>COMPLETE</td>\n",
       "    </tr>\n",
       "    <tr>\n",
       "      <th>35348</th>\n",
       "      <td>6353</td>\n",
       "      <td>Mary</td>\n",
       "      <td>Rogers</td>\n",
       "      <td>XXXXXXXXX</td>\n",
       "      <td>XXXXXXXXX</td>\n",
       "      <td>9526 Noble Embers Ridge</td>\n",
       "      <td>Decatur</td>\n",
       "      <td>GA</td>\n",
       "      <td>30032</td>\n",
       "      <td>17539.0</td>\n",
       "      <td>2013-11-11 00:00:00.0</td>\n",
       "      <td>6353.0</td>\n",
       "      <td>CLOSED</td>\n",
       "    </tr>\n",
       "    <tr>\n",
       "      <th>35349</th>\n",
       "      <td>6353</td>\n",
       "      <td>Mary</td>\n",
       "      <td>Rogers</td>\n",
       "      <td>XXXXXXXXX</td>\n",
       "      <td>XXXXXXXXX</td>\n",
       "      <td>9526 Noble Embers Ridge</td>\n",
       "      <td>Decatur</td>\n",
       "      <td>GA</td>\n",
       "      <td>30032</td>\n",
       "      <td>22354.0</td>\n",
       "      <td>2013-12-09 00:00:00.0</td>\n",
       "      <td>6353.0</td>\n",
       "      <td>COMPLETE</td>\n",
       "    </tr>\n",
       "    <tr>\n",
       "      <th>35350</th>\n",
       "      <td>6353</td>\n",
       "      <td>Mary</td>\n",
       "      <td>Rogers</td>\n",
       "      <td>XXXXXXXXX</td>\n",
       "      <td>XXXXXXXXX</td>\n",
       "      <td>9526 Noble Embers Ridge</td>\n",
       "      <td>Decatur</td>\n",
       "      <td>GA</td>\n",
       "      <td>30032</td>\n",
       "      <td>32652.0</td>\n",
       "      <td>2014-02-11 00:00:00.0</td>\n",
       "      <td>6353.0</td>\n",
       "      <td>PENDING_PAYMENT</td>\n",
       "    </tr>\n",
       "    <tr>\n",
       "      <th>35351</th>\n",
       "      <td>6353</td>\n",
       "      <td>Mary</td>\n",
       "      <td>Rogers</td>\n",
       "      <td>XXXXXXXXX</td>\n",
       "      <td>XXXXXXXXX</td>\n",
       "      <td>9526 Noble Embers Ridge</td>\n",
       "      <td>Decatur</td>\n",
       "      <td>GA</td>\n",
       "      <td>30032</td>\n",
       "      <td>68525.0</td>\n",
       "      <td>2014-06-05 00:00:00.0</td>\n",
       "      <td>6353.0</td>\n",
       "      <td>COMPLETE</td>\n",
       "    </tr>\n",
       "    <tr>\n",
       "      <th>66164</th>\n",
       "      <td>11944</td>\n",
       "      <td>Tammy</td>\n",
       "      <td>Ferguson</td>\n",
       "      <td>XXXXXXXXX</td>\n",
       "      <td>XXXXXXXXX</td>\n",
       "      <td>9526 Noble Embers Ridge</td>\n",
       "      <td>Caguas</td>\n",
       "      <td>PR</td>\n",
       "      <td>725</td>\n",
       "      <td>61747.0</td>\n",
       "      <td>2013-12-25 00:00:00.0</td>\n",
       "      <td>11944.0</td>\n",
       "      <td>PENDING</td>\n",
       "    </tr>\n",
       "  </tbody>\n",
       "</table>\n",
       "</div>"
      ],
      "text/plain": [
       "       customer_id customer_fname customer_lname customer_email  \\\n",
       "1                2           Mary        Barrett      XXXXXXXXX   \n",
       "2                2           Mary        Barrett      XXXXXXXXX   \n",
       "3                2           Mary        Barrett      XXXXXXXXX   \n",
       "4                2           Mary        Barrett      XXXXXXXXX   \n",
       "35347         6353           Mary         Rogers      XXXXXXXXX   \n",
       "35348         6353           Mary         Rogers      XXXXXXXXX   \n",
       "35349         6353           Mary         Rogers      XXXXXXXXX   \n",
       "35350         6353           Mary         Rogers      XXXXXXXXX   \n",
       "35351         6353           Mary         Rogers      XXXXXXXXX   \n",
       "66164        11944          Tammy       Ferguson      XXXXXXXXX   \n",
       "\n",
       "      customer_password          customer_street customer_city customer_state  \\\n",
       "1             XXXXXXXXX  9526 Noble Embers Ridge     Littleton             CO   \n",
       "2             XXXXXXXXX  9526 Noble Embers Ridge     Littleton             CO   \n",
       "3             XXXXXXXXX  9526 Noble Embers Ridge     Littleton             CO   \n",
       "4             XXXXXXXXX  9526 Noble Embers Ridge     Littleton             CO   \n",
       "35347         XXXXXXXXX  9526 Noble Embers Ridge       Decatur             GA   \n",
       "35348         XXXXXXXXX  9526 Noble Embers Ridge       Decatur             GA   \n",
       "35349         XXXXXXXXX  9526 Noble Embers Ridge       Decatur             GA   \n",
       "35350         XXXXXXXXX  9526 Noble Embers Ridge       Decatur             GA   \n",
       "35351         XXXXXXXXX  9526 Noble Embers Ridge       Decatur             GA   \n",
       "66164         XXXXXXXXX  9526 Noble Embers Ridge        Caguas             PR   \n",
       "\n",
       "       customer_zipcode  order_id             order_date  order_customer_id  \\\n",
       "1                 80126   15192.0  2013-10-29 00:00:00.0                2.0   \n",
       "2                 80126   33865.0  2014-02-18 00:00:00.0                2.0   \n",
       "3                 80126   57963.0  2013-08-02 00:00:00.0                2.0   \n",
       "4                 80126   67863.0  2013-11-30 00:00:00.0                2.0   \n",
       "35347             30032   15215.0  2013-10-30 00:00:00.0             6353.0   \n",
       "35348             30032   17539.0  2013-11-11 00:00:00.0             6353.0   \n",
       "35349             30032   22354.0  2013-12-09 00:00:00.0             6353.0   \n",
       "35350             30032   32652.0  2014-02-11 00:00:00.0             6353.0   \n",
       "35351             30032   68525.0  2014-06-05 00:00:00.0             6353.0   \n",
       "66164               725   61747.0  2013-12-25 00:00:00.0            11944.0   \n",
       "\n",
       "          order_status  \n",
       "1      PENDING_PAYMENT  \n",
       "2             COMPLETE  \n",
       "3              ON_HOLD  \n",
       "4             COMPLETE  \n",
       "35347         COMPLETE  \n",
       "35348           CLOSED  \n",
       "35349         COMPLETE  \n",
       "35350  PENDING_PAYMENT  \n",
       "35351         COMPLETE  \n",
       "66164          PENDING  "
      ]
     },
     "execution_count": 34,
     "metadata": {},
     "output_type": "execute_result"
    }
   ],
   "source": [
    "%%time\n",
    "df_pd_customer.merge(df_pd_orders, left_on='customer_id', right_on='order_customer_id', how='left').query(\"customer_street =='9526 Noble Embers Ridge'\")"
   ]
  },
  {
   "cell_type": "code",
   "execution_count": 35,
   "metadata": {
    "tags": []
   },
   "outputs": [
    {
     "name": "stdout",
     "output_type": "stream",
     "text": [
      "CPU times: user 55.1 ms, sys: 113 ms, total: 168 ms\n",
      "Wall time: 15.5 ms\n"
     ]
    },
    {
     "data": {
      "text/html": [
       "<div><style>\n",
       ".dataframe > thead > tr > th,\n",
       ".dataframe > tbody > tr > td {\n",
       "  text-align: right;\n",
       "}\n",
       "</style>\n",
       "<small>shape: (10, 12)</small><table border=\"1\" class=\"dataframe\"><thead><tr><th>customer_id</th><th>customer_fname</th><th>customer_lname</th><th>customer_email</th><th>customer_password</th><th>customer_street</th><th>customer_city</th><th>customer_state</th><th>customer_zipcode</th><th>order_id</th><th>order_date</th><th>order_status</th></tr><tr><td>i64</td><td>str</td><td>str</td><td>str</td><td>str</td><td>str</td><td>str</td><td>str</td><td>i64</td><td>i64</td><td>str</td><td>str</td></tr></thead><tbody><tr><td>2</td><td>&quot;Mary&quot;</td><td>&quot;Barrett&quot;</td><td>&quot;XXXXXXXXX&quot;</td><td>&quot;XXXXXXXXX&quot;</td><td>&quot;9526 Noble Emb…</td><td>&quot;Littleton&quot;</td><td>&quot;CO&quot;</td><td>80126</td><td>15192</td><td>&quot;2013-10-29 00:…</td><td>&quot;PENDING_PAYMEN…</td></tr><tr><td>2</td><td>&quot;Mary&quot;</td><td>&quot;Barrett&quot;</td><td>&quot;XXXXXXXXX&quot;</td><td>&quot;XXXXXXXXX&quot;</td><td>&quot;9526 Noble Emb…</td><td>&quot;Littleton&quot;</td><td>&quot;CO&quot;</td><td>80126</td><td>33865</td><td>&quot;2014-02-18 00:…</td><td>&quot;COMPLETE&quot;</td></tr><tr><td>2</td><td>&quot;Mary&quot;</td><td>&quot;Barrett&quot;</td><td>&quot;XXXXXXXXX&quot;</td><td>&quot;XXXXXXXXX&quot;</td><td>&quot;9526 Noble Emb…</td><td>&quot;Littleton&quot;</td><td>&quot;CO&quot;</td><td>80126</td><td>57963</td><td>&quot;2013-08-02 00:…</td><td>&quot;ON_HOLD&quot;</td></tr><tr><td>2</td><td>&quot;Mary&quot;</td><td>&quot;Barrett&quot;</td><td>&quot;XXXXXXXXX&quot;</td><td>&quot;XXXXXXXXX&quot;</td><td>&quot;9526 Noble Emb…</td><td>&quot;Littleton&quot;</td><td>&quot;CO&quot;</td><td>80126</td><td>67863</td><td>&quot;2013-11-30 00:…</td><td>&quot;COMPLETE&quot;</td></tr><tr><td>6353</td><td>&quot;Mary&quot;</td><td>&quot;Rogers&quot;</td><td>&quot;XXXXXXXXX&quot;</td><td>&quot;XXXXXXXXX&quot;</td><td>&quot;9526 Noble Emb…</td><td>&quot;Decatur&quot;</td><td>&quot;GA&quot;</td><td>30032</td><td>15215</td><td>&quot;2013-10-30 00:…</td><td>&quot;COMPLETE&quot;</td></tr><tr><td>6353</td><td>&quot;Mary&quot;</td><td>&quot;Rogers&quot;</td><td>&quot;XXXXXXXXX&quot;</td><td>&quot;XXXXXXXXX&quot;</td><td>&quot;9526 Noble Emb…</td><td>&quot;Decatur&quot;</td><td>&quot;GA&quot;</td><td>30032</td><td>17539</td><td>&quot;2013-11-11 00:…</td><td>&quot;CLOSED&quot;</td></tr><tr><td>6353</td><td>&quot;Mary&quot;</td><td>&quot;Rogers&quot;</td><td>&quot;XXXXXXXXX&quot;</td><td>&quot;XXXXXXXXX&quot;</td><td>&quot;9526 Noble Emb…</td><td>&quot;Decatur&quot;</td><td>&quot;GA&quot;</td><td>30032</td><td>22354</td><td>&quot;2013-12-09 00:…</td><td>&quot;COMPLETE&quot;</td></tr><tr><td>6353</td><td>&quot;Mary&quot;</td><td>&quot;Rogers&quot;</td><td>&quot;XXXXXXXXX&quot;</td><td>&quot;XXXXXXXXX&quot;</td><td>&quot;9526 Noble Emb…</td><td>&quot;Decatur&quot;</td><td>&quot;GA&quot;</td><td>30032</td><td>32652</td><td>&quot;2014-02-11 00:…</td><td>&quot;PENDING_PAYMEN…</td></tr><tr><td>6353</td><td>&quot;Mary&quot;</td><td>&quot;Rogers&quot;</td><td>&quot;XXXXXXXXX&quot;</td><td>&quot;XXXXXXXXX&quot;</td><td>&quot;9526 Noble Emb…</td><td>&quot;Decatur&quot;</td><td>&quot;GA&quot;</td><td>30032</td><td>68525</td><td>&quot;2014-06-05 00:…</td><td>&quot;COMPLETE&quot;</td></tr><tr><td>11944</td><td>&quot;Tammy&quot;</td><td>&quot;Ferguson&quot;</td><td>&quot;XXXXXXXXX&quot;</td><td>&quot;XXXXXXXXX&quot;</td><td>&quot;9526 Noble Emb…</td><td>&quot;Caguas&quot;</td><td>&quot;PR&quot;</td><td>725</td><td>61747</td><td>&quot;2013-12-25 00:…</td><td>&quot;PENDING&quot;</td></tr></tbody></table></div>"
      ],
      "text/plain": [
       "shape: (10, 12)\n",
       "┌───────────┬────────────┬────────────┬────────────┬───┬────────────┬──────────┬──────────┬────────────┐\n",
       "│ customer_ ┆ customer_f ┆ customer_l ┆ customer_e ┆ … ┆ customer_z ┆ order_id ┆ order_da ┆ order_stat │\n",
       "│ id        ┆ name       ┆ name       ┆ mail       ┆   ┆ ipcode     ┆ ---      ┆ te       ┆ us         │\n",
       "│ ---       ┆ ---        ┆ ---        ┆ ---        ┆   ┆ ---        ┆ i64      ┆ ---      ┆ ---        │\n",
       "│ i64       ┆ str        ┆ str        ┆ str        ┆   ┆ i64        ┆          ┆ str      ┆ str        │\n",
       "╞═══════════╪════════════╪════════════╪════════════╪═══╪════════════╪══════════╪══════════╪════════════╡\n",
       "│ 2         ┆ Mary       ┆ Barrett    ┆ XXXXXXXXX  ┆ … ┆ 80126      ┆ 15192    ┆ 2013-10- ┆ PENDING_PA │\n",
       "│           ┆            ┆            ┆            ┆   ┆            ┆          ┆ 29 00:00 ┆ YMENT      │\n",
       "│           ┆            ┆            ┆            ┆   ┆            ┆          ┆ :00.0    ┆            │\n",
       "│ 2         ┆ Mary       ┆ Barrett    ┆ XXXXXXXXX  ┆ … ┆ 80126      ┆ 33865    ┆ 2014-02- ┆ COMPLETE   │\n",
       "│           ┆            ┆            ┆            ┆   ┆            ┆          ┆ 18 00:00 ┆            │\n",
       "│           ┆            ┆            ┆            ┆   ┆            ┆          ┆ :00.0    ┆            │\n",
       "│ 2         ┆ Mary       ┆ Barrett    ┆ XXXXXXXXX  ┆ … ┆ 80126      ┆ 57963    ┆ 2013-08- ┆ ON_HOLD    │\n",
       "│           ┆            ┆            ┆            ┆   ┆            ┆          ┆ 02 00:00 ┆            │\n",
       "│           ┆            ┆            ┆            ┆   ┆            ┆          ┆ :00.0    ┆            │\n",
       "│ 2         ┆ Mary       ┆ Barrett    ┆ XXXXXXXXX  ┆ … ┆ 80126      ┆ 67863    ┆ 2013-11- ┆ COMPLETE   │\n",
       "│           ┆            ┆            ┆            ┆   ┆            ┆          ┆ 30 00:00 ┆            │\n",
       "│           ┆            ┆            ┆            ┆   ┆            ┆          ┆ :00.0    ┆            │\n",
       "│ …         ┆ …          ┆ …          ┆ …          ┆ … ┆ …          ┆ …        ┆ …        ┆ …          │\n",
       "│ 6353      ┆ Mary       ┆ Rogers     ┆ XXXXXXXXX  ┆ … ┆ 30032      ┆ 22354    ┆ 2013-12- ┆ COMPLETE   │\n",
       "│           ┆            ┆            ┆            ┆   ┆            ┆          ┆ 09 00:00 ┆            │\n",
       "│           ┆            ┆            ┆            ┆   ┆            ┆          ┆ :00.0    ┆            │\n",
       "│ 6353      ┆ Mary       ┆ Rogers     ┆ XXXXXXXXX  ┆ … ┆ 30032      ┆ 32652    ┆ 2014-02- ┆ PENDING_PA │\n",
       "│           ┆            ┆            ┆            ┆   ┆            ┆          ┆ 11 00:00 ┆ YMENT      │\n",
       "│           ┆            ┆            ┆            ┆   ┆            ┆          ┆ :00.0    ┆            │\n",
       "│ 6353      ┆ Mary       ┆ Rogers     ┆ XXXXXXXXX  ┆ … ┆ 30032      ┆ 68525    ┆ 2014-06- ┆ COMPLETE   │\n",
       "│           ┆            ┆            ┆            ┆   ┆            ┆          ┆ 05 00:00 ┆            │\n",
       "│           ┆            ┆            ┆            ┆   ┆            ┆          ┆ :00.0    ┆            │\n",
       "│ 11944     ┆ Tammy      ┆ Ferguson   ┆ XXXXXXXXX  ┆ … ┆ 725        ┆ 61747    ┆ 2013-12- ┆ PENDING    │\n",
       "│           ┆            ┆            ┆            ┆   ┆            ┆          ┆ 25 00:00 ┆            │\n",
       "│           ┆            ┆            ┆            ┆   ┆            ┆          ┆ :00.0    ┆            │\n",
       "└───────────┴────────────┴────────────┴────────────┴───┴────────────┴──────────┴──────────┴────────────┘"
      ]
     },
     "execution_count": 35,
     "metadata": {},
     "output_type": "execute_result"
    }
   ],
   "source": [
    "%%time\n",
    "df_pl_customer.join(df_pl_orders, left_on=\"customer_id\", right_on=\"order_customer_id\", how=\"left\").filter(pl.col(\"customer_street\") == \"9526 Noble Embers Ridge\")"
   ]
  },
  {
   "cell_type": "code",
   "execution_count": 39,
   "metadata": {
    "tags": []
   },
   "outputs": [],
   "source": [
    "df = pl.DataFrame(\n",
    "    data=[\n",
    "        (\"The Godfather\", 1972, 6_000_000, 134_821_952, 9.2),\n",
    "        (\"The Dark Knight\", 2008, 185_000_000, 533_316_061, 9.0),\n",
    "        (\"Schindler's List\", 1993, 22_000_000, 96_067_179, 8.9),\n",
    "        (\"Pulp Fiction\", 1994, 8_000_000, 107_930_000, 8.9),\n",
    "        (\"The Shawshank Redemption\", 1994, 25_000_000, 28_341_469, 9.3),\n",
    "    ],\n",
    "    schema=[\"title\", \"release_year\", \"budget\", \"gross\", \"imdb_score\"],\n",
    ")\n",
    "ctx = pl.SQLContext(films=df)"
   ]
  },
  {
   "cell_type": "code",
   "execution_count": 40,
   "metadata": {
    "tags": []
   },
   "outputs": [
    {
     "data": {
      "text/html": [
       "<div><style>\n",
       ".dataframe > thead > tr > th,\n",
       ".dataframe > tbody > tr > td {\n",
       "  text-align: right;\n",
       "}\n",
       "</style>\n",
       "<small>shape: (4, 3)</small><table border=\"1\" class=\"dataframe\"><thead><tr><th>title</th><th>release_year</th><th>imdb_score</th></tr><tr><td>str</td><td>i64</td><td>f64</td></tr></thead><tbody><tr><td>&quot;The Shawshank …</td><td>1994</td><td>9.3</td></tr><tr><td>&quot;The Dark Knigh…</td><td>2008</td><td>9.0</td></tr><tr><td>&quot;Schindler&#x27;s Li…</td><td>1993</td><td>8.9</td></tr><tr><td>&quot;Pulp Fiction&quot;</td><td>1994</td><td>8.9</td></tr></tbody></table></div>"
      ],
      "text/plain": [
       "shape: (4, 3)\n",
       "┌──────────────────────────┬──────────────┬────────────┐\n",
       "│ title                    ┆ release_year ┆ imdb_score │\n",
       "│ ---                      ┆ ---          ┆ ---        │\n",
       "│ str                      ┆ i64          ┆ f64        │\n",
       "╞══════════════════════════╪══════════════╪════════════╡\n",
       "│ The Shawshank Redemption ┆ 1994         ┆ 9.3        │\n",
       "│ The Dark Knight          ┆ 2008         ┆ 9.0        │\n",
       "│ Schindler's List         ┆ 1993         ┆ 8.9        │\n",
       "│ Pulp Fiction             ┆ 1994         ┆ 8.9        │\n",
       "└──────────────────────────┴──────────────┴────────────┘"
      ]
     },
     "execution_count": 40,
     "metadata": {},
     "output_type": "execute_result"
    }
   ],
   "source": [
    "ctx.execute(\n",
    "    '''\n",
    "    SELECT title, release_year, imdb_score\n",
    "    FROM films\n",
    "    WHERE release_year > 1990\n",
    "    ORDER BY imdb_score DESC\n",
    "    ''',\n",
    "    eager=True,\n",
    ")"
   ]
  },
  {
   "cell_type": "code",
   "execution_count": 48,
   "metadata": {
    "tags": []
   },
   "outputs": [
    {
     "data": {
      "text/html": [
       "<div><style>\n",
       ".dataframe > thead > tr > th,\n",
       ".dataframe > tbody > tr > td {\n",
       "  text-align: right;\n",
       "}\n",
       "</style>\n",
       "<small>shape: (1, 1)</small><table border=\"1\" class=\"dataframe\"><thead><tr><th>ROGER</th></tr><tr><td>i64</td></tr></thead><tbody><tr><td>2000</td></tr></tbody></table></div>"
      ],
      "text/plain": [
       "shape: (1, 1)\n",
       "┌───────┐\n",
       "│ ROGER │\n",
       "│ ---   │\n",
       "│ i64   │\n",
       "╞═══════╡\n",
       "│ 2000  │\n",
       "└───────┘"
      ]
     },
     "execution_count": 48,
     "metadata": {},
     "output_type": "execute_result"
    }
   ],
   "source": [
    "ctx.execute(\n",
    "    '''\n",
    "    WITH data AS (\n",
    "    SELECT\n",
    "        MAX(release_year / 10) * 10 AS decade,\n",
    "        SUM(gross) AS total_gross,\n",
    "        COUNT(title) AS n_films,\n",
    "    FROM films\n",
    "    GROUP BY (release_year / 10) -- decade\n",
    "    )\n",
    "    SELECT MAX(decade) as ROGER\n",
    "    FROM data\n",
    "    ''',\n",
    "    eager=True,\n",
    ")"
   ]
  },
  {
   "cell_type": "code",
   "execution_count": 17,
   "metadata": {
    "tags": []
   },
   "outputs": [
    {
     "data": {
      "text/html": [
       "<div><style>\n",
       ".dataframe > thead > tr > th,\n",
       ".dataframe > tbody > tr > td {\n",
       "  text-align: right;\n",
       "}\n",
       "</style>\n",
       "<small>shape: (1, 1)</small><table border=\"1\" class=\"dataframe\"><thead><tr><th>hello</th></tr><tr><td>str</td></tr></thead><tbody><tr><td>&quot;world&quot;</td></tr></tbody></table></div>"
      ],
      "text/plain": [
       "shape: (1, 1)\n",
       "┌───────┐\n",
       "│ hello │\n",
       "│ ---   │\n",
       "│ str   │\n",
       "╞═══════╡\n",
       "│ world │\n",
       "└───────┘"
      ]
     },
     "execution_count": 17,
     "metadata": {},
     "output_type": "execute_result"
    }
   ],
   "source": [
    "df = pl.DataFrame({\"hello\": [\"world\"]})\n",
    "ctx = pl.SQLContext()\n",
    "ctx.register(\"frame_data\", df).execute(\"SELECT * FROM frame_data\").collect()"
   ]
  },
  {
   "cell_type": "code",
   "execution_count": 18,
   "metadata": {
    "tags": []
   },
   "outputs": [],
   "source": [
    "lf1 = pl.LazyFrame({\"a\": [1, 2, 3], \"b\": [\"m\", \"n\", \"o\"]})\n",
    "lf2 = pl.LazyFrame({\"a\": [2, 3, 4], \"c\": [\"p\", \"q\", \"r\"]})\n",
    "lf3 = pl.LazyFrame({\"a\": [3, 4, 5], \"b\": [\"s\", \"t\", \"u\"]})\n",
    "lf4 = pl.LazyFrame({\"a\": [4, 5, 6], \"c\": [\"v\", \"w\", \"x\"]})"
   ]
  },
  {
   "cell_type": "code",
   "execution_count": 19,
   "metadata": {
    "tags": []
   },
   "outputs": [],
   "source": [
    "ctx = pl.SQLContext().register_many({\"tbl1\": lf1, \"tbl2\": lf2})"
   ]
  },
  {
   "cell_type": "code",
   "execution_count": 20,
   "metadata": {
    "tags": []
   },
   "outputs": [],
   "source": [
    "pl_df = ctx.execute(\"SELECT * FROM tbl1\").collect()"
   ]
  },
  {
   "cell_type": "code",
   "execution_count": 21,
   "metadata": {
    "tags": []
   },
   "outputs": [],
   "source": [
    "ctx = pl.SQLContext().register_many({\"customers\": df_pl_customer, \"orders\": df_pl_orders})"
   ]
  },
  {
   "cell_type": "code",
   "execution_count": 22,
   "metadata": {
    "tags": []
   },
   "outputs": [
    {
     "data": {
      "text/html": [
       "<div><style>\n",
       ".dataframe > thead > tr > th,\n",
       ".dataframe > tbody > tr > td {\n",
       "  text-align: right;\n",
       "}\n",
       "</style>\n",
       "<small>shape: (68_913, 12)</small><table border=\"1\" class=\"dataframe\"><thead><tr><th>customer_id</th><th>customer_fname</th><th>customer_lname</th><th>customer_email</th><th>customer_password</th><th>customer_street</th><th>customer_city</th><th>customer_state</th><th>customer_zipcode</th><th>order_id</th><th>order_date</th><th>order_status</th></tr><tr><td>i64</td><td>str</td><td>str</td><td>str</td><td>str</td><td>str</td><td>str</td><td>str</td><td>i64</td><td>i64</td><td>str</td><td>str</td></tr></thead><tbody><tr><td>1</td><td>&quot;Richard&quot;</td><td>&quot;Hernandez&quot;</td><td>&quot;XXXXXXXXX&quot;</td><td>&quot;XXXXXXXXX&quot;</td><td>&quot;6303 Heather P…</td><td>&quot;Brownsville&quot;</td><td>&quot;TX&quot;</td><td>78521</td><td>22945</td><td>&quot;2013-12-13 00:…</td><td>&quot;COMPLETE&quot;</td></tr><tr><td>2</td><td>&quot;Mary&quot;</td><td>&quot;Barrett&quot;</td><td>&quot;XXXXXXXXX&quot;</td><td>&quot;XXXXXXXXX&quot;</td><td>&quot;9526 Noble Emb…</td><td>&quot;Littleton&quot;</td><td>&quot;CO&quot;</td><td>80126</td><td>15192</td><td>&quot;2013-10-29 00:…</td><td>&quot;PENDING_PAYMEN…</td></tr><tr><td>2</td><td>&quot;Mary&quot;</td><td>&quot;Barrett&quot;</td><td>&quot;XXXXXXXXX&quot;</td><td>&quot;XXXXXXXXX&quot;</td><td>&quot;9526 Noble Emb…</td><td>&quot;Littleton&quot;</td><td>&quot;CO&quot;</td><td>80126</td><td>33865</td><td>&quot;2014-02-18 00:…</td><td>&quot;COMPLETE&quot;</td></tr><tr><td>2</td><td>&quot;Mary&quot;</td><td>&quot;Barrett&quot;</td><td>&quot;XXXXXXXXX&quot;</td><td>&quot;XXXXXXXXX&quot;</td><td>&quot;9526 Noble Emb…</td><td>&quot;Littleton&quot;</td><td>&quot;CO&quot;</td><td>80126</td><td>57963</td><td>&quot;2013-08-02 00:…</td><td>&quot;ON_HOLD&quot;</td></tr><tr><td>2</td><td>&quot;Mary&quot;</td><td>&quot;Barrett&quot;</td><td>&quot;XXXXXXXXX&quot;</td><td>&quot;XXXXXXXXX&quot;</td><td>&quot;9526 Noble Emb…</td><td>&quot;Littleton&quot;</td><td>&quot;CO&quot;</td><td>80126</td><td>67863</td><td>&quot;2013-11-30 00:…</td><td>&quot;COMPLETE&quot;</td></tr><tr><td>3</td><td>&quot;Ann&quot;</td><td>&quot;Smith&quot;</td><td>&quot;XXXXXXXXX&quot;</td><td>&quot;XXXXXXXXX&quot;</td><td>&quot;3422 Blue Pion…</td><td>&quot;Caguas&quot;</td><td>&quot;PR&quot;</td><td>725</td><td>22646</td><td>&quot;2013-12-11 00:…</td><td>&quot;COMPLETE&quot;</td></tr><tr><td>3</td><td>&quot;Ann&quot;</td><td>&quot;Smith&quot;</td><td>&quot;XXXXXXXXX&quot;</td><td>&quot;XXXXXXXXX&quot;</td><td>&quot;3422 Blue Pion…</td><td>&quot;Caguas&quot;</td><td>&quot;PR&quot;</td><td>725</td><td>23662</td><td>&quot;2013-12-19 00:…</td><td>&quot;COMPLETE&quot;</td></tr><tr><td>3</td><td>&quot;Ann&quot;</td><td>&quot;Smith&quot;</td><td>&quot;XXXXXXXXX&quot;</td><td>&quot;XXXXXXXXX&quot;</td><td>&quot;3422 Blue Pion…</td><td>&quot;Caguas&quot;</td><td>&quot;PR&quot;</td><td>725</td><td>35158</td><td>&quot;2014-02-26 00:…</td><td>&quot;COMPLETE&quot;</td></tr><tr><td>3</td><td>&quot;Ann&quot;</td><td>&quot;Smith&quot;</td><td>&quot;XXXXXXXXX&quot;</td><td>&quot;XXXXXXXXX&quot;</td><td>&quot;3422 Blue Pion…</td><td>&quot;Caguas&quot;</td><td>&quot;PR&quot;</td><td>725</td><td>46399</td><td>&quot;2014-05-09 00:…</td><td>&quot;PROCESSING&quot;</td></tr><tr><td>3</td><td>&quot;Ann&quot;</td><td>&quot;Smith&quot;</td><td>&quot;XXXXXXXXX&quot;</td><td>&quot;XXXXXXXXX&quot;</td><td>&quot;3422 Blue Pion…</td><td>&quot;Caguas&quot;</td><td>&quot;PR&quot;</td><td>725</td><td>56178</td><td>&quot;2014-07-15 00:…</td><td>&quot;PENDING&quot;</td></tr><tr><td>3</td><td>&quot;Ann&quot;</td><td>&quot;Smith&quot;</td><td>&quot;XXXXXXXXX&quot;</td><td>&quot;XXXXXXXXX&quot;</td><td>&quot;3422 Blue Pion…</td><td>&quot;Caguas&quot;</td><td>&quot;PR&quot;</td><td>725</td><td>57617</td><td>&quot;2014-07-24 00:…</td><td>&quot;COMPLETE&quot;</td></tr><tr><td>3</td><td>&quot;Ann&quot;</td><td>&quot;Smith&quot;</td><td>&quot;XXXXXXXXX&quot;</td><td>&quot;XXXXXXXXX&quot;</td><td>&quot;3422 Blue Pion…</td><td>&quot;Caguas&quot;</td><td>&quot;PR&quot;</td><td>725</td><td>61453</td><td>&quot;2013-12-14 00:…</td><td>&quot;COMPLETE&quot;</td></tr><tr><td>&hellip;</td><td>&hellip;</td><td>&hellip;</td><td>&hellip;</td><td>&hellip;</td><td>&hellip;</td><td>&hellip;</td><td>&hellip;</td><td>&hellip;</td><td>&hellip;</td><td>&hellip;</td><td>&hellip;</td></tr><tr><td>12433</td><td>&quot;Benjamin&quot;</td><td>&quot;Garcia&quot;</td><td>&quot;XXXXXXXXX&quot;</td><td>&quot;XXXXXXXXX&quot;</td><td>&quot;5459 Noble Bro…</td><td>&quot;Levittown&quot;</td><td>&quot;NY&quot;</td><td>11756</td><td>58917</td><td>&quot;2013-09-07 00:…</td><td>&quot;PAYMENT_REVIEW…</td></tr><tr><td>12433</td><td>&quot;Benjamin&quot;</td><td>&quot;Garcia&quot;</td><td>&quot;XXXXXXXXX&quot;</td><td>&quot;XXXXXXXXX&quot;</td><td>&quot;5459 Noble Bro…</td><td>&quot;Levittown&quot;</td><td>&quot;NY&quot;</td><td>11756</td><td>65117</td><td>&quot;2014-05-01 00:…</td><td>&quot;ON_HOLD&quot;</td></tr><tr><td>12434</td><td>&quot;Mary&quot;</td><td>&quot;Mills&quot;</td><td>&quot;XXXXXXXXX&quot;</td><td>&quot;XXXXXXXXX&quot;</td><td>&quot;9720 Colonial …</td><td>&quot;Caguas&quot;</td><td>&quot;PR&quot;</td><td>725</td><td>1868</td><td>&quot;2013-08-03 00:…</td><td>&quot;CLOSED&quot;</td></tr><tr><td>12434</td><td>&quot;Mary&quot;</td><td>&quot;Mills&quot;</td><td>&quot;XXXXXXXXX&quot;</td><td>&quot;XXXXXXXXX&quot;</td><td>&quot;9720 Colonial …</td><td>&quot;Caguas&quot;</td><td>&quot;PR&quot;</td><td>725</td><td>4799</td><td>&quot;2013-08-23 00:…</td><td>&quot;PENDING_PAYMEN…</td></tr><tr><td>12434</td><td>&quot;Mary&quot;</td><td>&quot;Mills&quot;</td><td>&quot;XXXXXXXXX&quot;</td><td>&quot;XXXXXXXXX&quot;</td><td>&quot;9720 Colonial …</td><td>&quot;Caguas&quot;</td><td>&quot;PR&quot;</td><td>725</td><td>5303</td><td>&quot;2013-08-26 00:…</td><td>&quot;PENDING&quot;</td></tr><tr><td>12434</td><td>&quot;Mary&quot;</td><td>&quot;Mills&quot;</td><td>&quot;XXXXXXXXX&quot;</td><td>&quot;XXXXXXXXX&quot;</td><td>&quot;9720 Colonial …</td><td>&quot;Caguas&quot;</td><td>&quot;PR&quot;</td><td>725</td><td>6160</td><td>&quot;2013-09-02 00:…</td><td>&quot;COMPLETE&quot;</td></tr><tr><td>12434</td><td>&quot;Mary&quot;</td><td>&quot;Mills&quot;</td><td>&quot;XXXXXXXXX&quot;</td><td>&quot;XXXXXXXXX&quot;</td><td>&quot;9720 Colonial …</td><td>&quot;Caguas&quot;</td><td>&quot;PR&quot;</td><td>725</td><td>13544</td><td>&quot;2013-10-16 00:…</td><td>&quot;PENDING&quot;</td></tr><tr><td>12434</td><td>&quot;Mary&quot;</td><td>&quot;Mills&quot;</td><td>&quot;XXXXXXXXX&quot;</td><td>&quot;XXXXXXXXX&quot;</td><td>&quot;9720 Colonial …</td><td>&quot;Caguas&quot;</td><td>&quot;PR&quot;</td><td>725</td><td>42915</td><td>&quot;2014-04-16 00:…</td><td>&quot;COMPLETE&quot;</td></tr><tr><td>12434</td><td>&quot;Mary&quot;</td><td>&quot;Mills&quot;</td><td>&quot;XXXXXXXXX&quot;</td><td>&quot;XXXXXXXXX&quot;</td><td>&quot;9720 Colonial …</td><td>&quot;Caguas&quot;</td><td>&quot;PR&quot;</td><td>725</td><td>51800</td><td>&quot;2014-06-14 00:…</td><td>&quot;ON_HOLD&quot;</td></tr><tr><td>12434</td><td>&quot;Mary&quot;</td><td>&quot;Mills&quot;</td><td>&quot;XXXXXXXXX&quot;</td><td>&quot;XXXXXXXXX&quot;</td><td>&quot;9720 Colonial …</td><td>&quot;Caguas&quot;</td><td>&quot;PR&quot;</td><td>725</td><td>61777</td><td>&quot;2013-12-26 00:…</td><td>&quot;COMPLETE&quot;</td></tr><tr><td>12435</td><td>&quot;Laura&quot;</td><td>&quot;Horton&quot;</td><td>&quot;XXXXXXXXX&quot;</td><td>&quot;XXXXXXXXX&quot;</td><td>&quot;5736 Honey Dow…</td><td>&quot;Summerville&quot;</td><td>&quot;SC&quot;</td><td>29483</td><td>41643</td><td>&quot;2014-04-08 00:…</td><td>&quot;PENDING&quot;</td></tr><tr><td>12435</td><td>&quot;Laura&quot;</td><td>&quot;Horton&quot;</td><td>&quot;XXXXXXXXX&quot;</td><td>&quot;XXXXXXXXX&quot;</td><td>&quot;5736 Honey Dow…</td><td>&quot;Summerville&quot;</td><td>&quot;SC&quot;</td><td>29483</td><td>61629</td><td>&quot;2013-12-21 00:…</td><td>&quot;CANCELED&quot;</td></tr></tbody></table></div>"
      ],
      "text/plain": [
       "shape: (68_913, 12)\n",
       "┌───────────┬────────────┬────────────┬────────────┬───┬────────────┬──────────┬──────────┬────────────┐\n",
       "│ customer_ ┆ customer_f ┆ customer_l ┆ customer_e ┆ … ┆ customer_z ┆ order_id ┆ order_da ┆ order_stat │\n",
       "│ id        ┆ name       ┆ name       ┆ mail       ┆   ┆ ipcode     ┆ ---      ┆ te       ┆ us         │\n",
       "│ ---       ┆ ---        ┆ ---        ┆ ---        ┆   ┆ ---        ┆ i64      ┆ ---      ┆ ---        │\n",
       "│ i64       ┆ str        ┆ str        ┆ str        ┆   ┆ i64        ┆          ┆ str      ┆ str        │\n",
       "╞═══════════╪════════════╪════════════╪════════════╪═══╪════════════╪══════════╪══════════╪════════════╡\n",
       "│ 1         ┆ Richard    ┆ Hernandez  ┆ XXXXXXXXX  ┆ … ┆ 78521      ┆ 22945    ┆ 2013-12- ┆ COMPLETE   │\n",
       "│           ┆            ┆            ┆            ┆   ┆            ┆          ┆ 13 00:00 ┆            │\n",
       "│           ┆            ┆            ┆            ┆   ┆            ┆          ┆ :00.0    ┆            │\n",
       "│ 2         ┆ Mary       ┆ Barrett    ┆ XXXXXXXXX  ┆ … ┆ 80126      ┆ 15192    ┆ 2013-10- ┆ PENDING_PA │\n",
       "│           ┆            ┆            ┆            ┆   ┆            ┆          ┆ 29 00:00 ┆ YMENT      │\n",
       "│           ┆            ┆            ┆            ┆   ┆            ┆          ┆ :00.0    ┆            │\n",
       "│ 2         ┆ Mary       ┆ Barrett    ┆ XXXXXXXXX  ┆ … ┆ 80126      ┆ 33865    ┆ 2014-02- ┆ COMPLETE   │\n",
       "│           ┆            ┆            ┆            ┆   ┆            ┆          ┆ 18 00:00 ┆            │\n",
       "│           ┆            ┆            ┆            ┆   ┆            ┆          ┆ :00.0    ┆            │\n",
       "│ 2         ┆ Mary       ┆ Barrett    ┆ XXXXXXXXX  ┆ … ┆ 80126      ┆ 57963    ┆ 2013-08- ┆ ON_HOLD    │\n",
       "│           ┆            ┆            ┆            ┆   ┆            ┆          ┆ 02 00:00 ┆            │\n",
       "│           ┆            ┆            ┆            ┆   ┆            ┆          ┆ :00.0    ┆            │\n",
       "│ …         ┆ …          ┆ …          ┆ …          ┆ … ┆ …          ┆ …        ┆ …        ┆ …          │\n",
       "│ 12434     ┆ Mary       ┆ Mills      ┆ XXXXXXXXX  ┆ … ┆ 725        ┆ 51800    ┆ 2014-06- ┆ ON_HOLD    │\n",
       "│           ┆            ┆            ┆            ┆   ┆            ┆          ┆ 14 00:00 ┆            │\n",
       "│           ┆            ┆            ┆            ┆   ┆            ┆          ┆ :00.0    ┆            │\n",
       "│ 12434     ┆ Mary       ┆ Mills      ┆ XXXXXXXXX  ┆ … ┆ 725        ┆ 61777    ┆ 2013-12- ┆ COMPLETE   │\n",
       "│           ┆            ┆            ┆            ┆   ┆            ┆          ┆ 26 00:00 ┆            │\n",
       "│           ┆            ┆            ┆            ┆   ┆            ┆          ┆ :00.0    ┆            │\n",
       "│ 12435     ┆ Laura      ┆ Horton     ┆ XXXXXXXXX  ┆ … ┆ 29483      ┆ 41643    ┆ 2014-04- ┆ PENDING    │\n",
       "│           ┆            ┆            ┆            ┆   ┆            ┆          ┆ 08 00:00 ┆            │\n",
       "│           ┆            ┆            ┆            ┆   ┆            ┆          ┆ :00.0    ┆            │\n",
       "│ 12435     ┆ Laura      ┆ Horton     ┆ XXXXXXXXX  ┆ … ┆ 29483      ┆ 61629    ┆ 2013-12- ┆ CANCELED   │\n",
       "│           ┆            ┆            ┆            ┆   ┆            ┆          ┆ 21 00:00 ┆            │\n",
       "│           ┆            ┆            ┆            ┆   ┆            ┆          ┆ :00.0    ┆            │\n",
       "└───────────┴────────────┴────────────┴────────────┴───┴────────────┴──────────┴──────────┴────────────┘"
      ]
     },
     "execution_count": 22,
     "metadata": {},
     "output_type": "execute_result"
    }
   ],
   "source": [
    "ctx.execute(\"SELECT * FROM customers LEFT JOIN orders ON customer_id = order_customer_id\").collect()"
   ]
  },
  {
   "cell_type": "code",
   "execution_count": null,
   "metadata": {},
   "outputs": [],
   "source": []
  },
  {
   "cell_type": "code",
   "execution_count": null,
   "metadata": {},
   "outputs": [],
   "source": []
  },
  {
   "cell_type": "code",
   "execution_count": null,
   "metadata": {},
   "outputs": [],
   "source": []
  },
  {
   "cell_type": "code",
   "execution_count": null,
   "metadata": {},
   "outputs": [],
   "source": []
  },
  {
   "cell_type": "code",
   "execution_count": null,
   "metadata": {},
   "outputs": [],
   "source": []
  }
 ],
 "metadata": {
  "kernelspec": {
   "display_name": "Python 3 (ipykernel)",
   "language": "python",
   "name": "python3"
  },
  "language_info": {
   "codemirror_mode": {
    "name": "ipython",
    "version": 3
   },
   "file_extension": ".py",
   "mimetype": "text/x-python",
   "name": "python",
   "nbconvert_exporter": "python",
   "pygments_lexer": "ipython3",
   "version": "3.9.17"
  },
  "vscode": {
   "interpreter": {
    "hash": "966f2900da358dd5f28eaee2bebb0e061e8c6e0636bb0cdf171384495951b627"
   }
  }
 },
 "nbformat": 4,
 "nbformat_minor": 4
}
