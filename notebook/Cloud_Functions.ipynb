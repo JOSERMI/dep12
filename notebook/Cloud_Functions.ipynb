{
  "nbformat": 4,
  "nbformat_minor": 0,
  "metadata": {
    "colab": {
      "provenance": []
    },
    "kernelspec": {
      "name": "python3",
      "display_name": "Python 3"
    },
    "language_info": {
      "name": "python"
    }
  },
  "cells": [
    {
      "cell_type": "markdown",
      "source": [
        "#Install dependencias"
      ],
      "metadata": {
        "id": "a3e_pJ_Po7R0"
      }
    },
    {
      "cell_type": "code",
      "execution_count": 1,
      "metadata": {
        "colab": {
          "base_uri": "https://localhost:8080/"
        },
        "id": "tbYJ7z_pr9kP",
        "outputId": "a5b0cce3-e120-4c8e-beb8-88817345d8c3"
      },
      "outputs": [
        {
          "output_type": "stream",
          "name": "stdout",
          "text": [
            "Looking in indexes: https://pypi.org/simple, https://us-python.pkg.dev/colab-wheels/public/simple/\n",
            "Requirement already satisfied: google-cloud in /usr/local/lib/python3.10/dist-packages (0.34.0)\n",
            "Looking in indexes: https://pypi.org/simple, https://us-python.pkg.dev/colab-wheels/public/simple/\n",
            "Requirement already satisfied: mysql-connector-python in /usr/local/lib/python3.10/dist-packages (8.0.33)\n",
            "Requirement already satisfied: protobuf<=3.20.3,>=3.11.0 in /usr/local/lib/python3.10/dist-packages (from mysql-connector-python) (3.20.3)\n"
          ]
        }
      ],
      "source": [
        "!pip install google-cloud\n",
        "!pip install mysql-connector-python\n",
        "!pip install -U -q PyDrive"
      ]
    },
    {
      "cell_type": "markdown",
      "source": [
        "# Funcion: **list_mysql_tables**"
      ],
      "metadata": {
        "id": "vdSlLjjHpBKB"
      }
    },
    {
      "cell_type": "code",
      "source": [
        "import mysql\n",
        "import pandas as pd\n",
        "import mysql.connector as connection\n",
        " \n",
        "import warnings\n",
        "warnings.filterwarnings('ignore')\n",
        "\n",
        "def list_mysql_tables(request):\n",
        "  \n",
        "  headers = {\n",
        "      'Access-Control-Allow-Origin': '*',\n",
        "      'Content-Type': 'application/json'\n",
        "  }\n",
        "\n",
        "  db = mysql.connector.connect(\n",
        "    host=\"72.167.124.128\",\n",
        "    user=\"user_test2023\",\n",
        "    password=\"g&d*nf!12vQj\",\n",
        "    database=\"db_test2023\"\n",
        "  )\n",
        "   \n",
        "  query = '''SELECT\n",
        "\t            table_schema\n",
        "              , table_name\n",
        "              , table_rows\n",
        "            FROM information_schema.tables\n",
        "            WHERE TABLE_TYPE = \"BASE TABLE\"'''\n",
        " \n",
        "  result_dataframe = pd.read_sql(query, db)\n",
        "  db.close()\n",
        "  \n",
        "  return (result_dataframe.to_json(orient='records'), 200, headers)\n"
      ],
      "metadata": {
        "id": "XDb2gEndsA0T"
      },
      "execution_count": 2,
      "outputs": []
    },
    {
      "cell_type": "markdown",
      "source": [
        "\n",
        "**Test**"
      ],
      "metadata": {
        "id": "_qKkQUvgpMds"
      }
    },
    {
      "cell_type": "code",
      "source": [
        "# Test\n",
        "class RequestArgsMock:\n",
        "    def __init__(self, **kwargs):\n",
        "        self.args = kwargs\n",
        "\n",
        "request = RequestArgsMock(cliente='128')\n",
        "print(list_mysql_tables(request))"
      ],
      "metadata": {
        "colab": {
          "base_uri": "https://localhost:8080/"
        },
        "id": "O2QRZnAupW-T",
        "outputId": "71799872-c66d-4b50-e543-a5b31dd314a3"
      },
      "execution_count": 3,
      "outputs": [
        {
          "output_type": "stream",
          "name": "stdout",
          "text": [
            "('[{\"table_schema\":\"db_test2023\",\"table_name\":\"customers\",\"table_rows\":122},{\"table_schema\":\"db_test2023\",\"table_name\":\"employees\",\"table_rows\":23},{\"table_schema\":\"db_test2023\",\"table_name\":\"offices\",\"table_rows\":7},{\"table_schema\":\"db_test2023\",\"table_name\":\"orderdetails\",\"table_rows\":2996},{\"table_schema\":\"db_test2023\",\"table_name\":\"orders\",\"table_rows\":326},{\"table_schema\":\"db_test2023\",\"table_name\":\"payments\",\"table_rows\":273},{\"table_schema\":\"db_test2023\",\"table_name\":\"productlines\",\"table_rows\":7},{\"table_schema\":\"db_test2023\",\"table_name\":\"products\",\"table_rows\":110}]', 200, {'Access-Control-Allow-Origin': '*', 'Content-Type': 'application/json'})\n"
          ]
        }
      ]
    },
    {
      "cell_type": "markdown",
      "source": [
        "**Fix para credenciales**\n",
        "Dependencias"
      ],
      "metadata": {
        "id": "0AyYcN-ypaVU"
      }
    },
    {
      "cell_type": "code",
      "source": [
        "from pydrive.auth import GoogleAuth\n",
        "from pydrive.drive import GoogleDrive\n",
        "from google.colab import auth\n",
        "from oauth2client.client import GoogleCredentials# Authenticate and create the PyDrive client."
      ],
      "metadata": {
        "id": "8-VU_oyi_Gxs"
      },
      "execution_count": 4,
      "outputs": []
    },
    {
      "cell_type": "markdown",
      "source": [
        "Credenciales"
      ],
      "metadata": {
        "id": "53RMEwZ7ph0b"
      }
    },
    {
      "cell_type": "code",
      "source": [
        "auth.authenticate_user()\n",
        "gauth = GoogleAuth()\n",
        "gauth.credentials = GoogleCredentials.get_application_default()\n",
        "drive = GoogleDrive(gauth)\n",
        "downloaded = drive.CreateFile({'id':'1B_iIqKrhT43T5JLKSIqfxbEwx998K6T9'}) \n",
        "downloaded.GetContentFile('secrets.json')  \n"
      ],
      "metadata": {
        "id": "KrKdgOVY_Aco"
      },
      "execution_count": 5,
      "outputs": []
    },
    {
      "cell_type": "markdown",
      "source": [
        "# Funcion: **copy_table_mysql_to_bigquery**"
      ],
      "metadata": {
        "id": "8jkCVe7FqpBG"
      }
    },
    {
      "cell_type": "code",
      "source": [
        "import os\n",
        "import json\n",
        "import pandas as pd\n",
        "import mysql\n",
        "import mysql.connector as connection\n",
        "from google.cloud import bigquery\n",
        "\n",
        "import warnings\n",
        "warnings.filterwarnings('ignore')\n",
        "\n",
        "\n",
        "def copy_table_mysql_to_bigquery(request):\n",
        "  table_source = request.args['table_source']\n",
        "  table_destination = request.args['table_destination']\n",
        "  project_id = 'test-prj-data-911'\n",
        "  schema = 'raw'\n",
        "  table_id =  '{0}.{1}.{2}'.format(project_id, schema, table_destination)\n",
        "\n",
        "  headers = {\n",
        "      'Access-Control-Allow-Origin': '*',\n",
        "      'Content-Type': 'application/json'\n",
        "  }\n",
        "\n",
        "  if table_source.strip() == \"\" or table_destination.strip() == \"\":\n",
        "    return (json.dumps({'result': 'error', 'description': 'no table name'}), 200, headers)\n",
        "  \n",
        "  db = mysql.connector.connect(\n",
        "    host=\"72.167.124.128\",\n",
        "    user=\"user_test2023\",\n",
        "    password=\"g&d*nf!12vQj\",\n",
        "    database=\"db_test2023\"\n",
        "  )\n",
        "   \n",
        "  query = 'SELECT * FROM {0}'.format(table_source)\n",
        "  result_dataframe = pd.read_sql(query, db)\n",
        "  db.close()\n",
        "  \n",
        "  os.environ[\"GOOGLE_APPLICATION_CREDENTIALS\"] = \"secrets.json\"\n",
        "\n",
        "  client = bigquery.Client()\n",
        "\n",
        "  job_config = bigquery.LoadJobConfig(\n",
        "      write_disposition=\"WRITE_TRUNCATE\",\n",
        "  )\n",
        "\n",
        "\n",
        "  job = client.load_table_from_dataframe(\n",
        "    result_dataframe, table_id, job_config=job_config\n",
        "  )\n",
        "  job.result()\n",
        "\n",
        "  try:\n",
        "      client.get_table(table_id)\n",
        "  except NotFound:\n",
        "      return (json.dumps({'result': 'error', 'description': 'table not found'}), 200, headers)\n",
        "\n",
        "  return (json.dumps({'result': 'ok'}), 200, headers)"
      ],
      "metadata": {
        "id": "_2F_F8iutDmL"
      },
      "execution_count": 6,
      "outputs": []
    },
    {
      "cell_type": "markdown",
      "source": [
        "Test"
      ],
      "metadata": {
        "id": "MZDBiOtQqKN1"
      }
    },
    {
      "cell_type": "code",
      "source": [
        "# Test\n",
        "class RequestArgsMock:\n",
        "    def __init__(self, **kwargs):\n",
        "        self.args = kwargs\n",
        "\n",
        "request = RequestArgsMock(table_source='employees', table_destination='employees')\n",
        "print(copy_table_mysql_to_bigquery(request))"
      ],
      "metadata": {
        "colab": {
          "base_uri": "https://localhost:8080/"
        },
        "id": "oLFrZzeDqJXW",
        "outputId": "05fe1564-794e-40da-e328-ece6280dc396"
      },
      "execution_count": 7,
      "outputs": [
        {
          "output_type": "stream",
          "name": "stdout",
          "text": [
            "('{\"result\": \"ok\"}', 200, {'Access-Control-Allow-Origin': '*', 'Content-Type': 'application/json'})\n"
          ]
        }
      ]
    },
    {
      "cell_type": "markdown",
      "source": [
        "# Funcion: **get_rows_from_bigquery**"
      ],
      "metadata": {
        "id": "ZSPRu6SOqU6T"
      }
    },
    {
      "cell_type": "code",
      "source": [
        "import pandas as pd\n",
        "from google.cloud import bigquery\n",
        "from google.cloud.exceptions import NotFound\n",
        "import os\n",
        "import json\n",
        "\n",
        "\n",
        "def get_rows_from_bigquery(request):\n",
        " \n",
        "  table_name = request.args['table_name']\n",
        "  project_id = 'test-prj-data-911'\n",
        "  schema = 'raw'\n",
        "  table_id =  '{0}.{1}.{2}'.format(project_id, schema, table_name)\n",
        "  headers = {\n",
        "      'Access-Control-Allow-Origin': '*',\n",
        "      'Content-Type': 'application/json'\n",
        "  }\n",
        "\n",
        "  if table_name.strip() == \"\":\n",
        "    return (json.dumps({'result': 'error', 'description': 'no table name','status': 200}), 200, headers)\n",
        "  \n",
        "  os.environ[\"GOOGLE_APPLICATION_CREDENTIALS\"] = \"secrets.json\"\n",
        "\n",
        "  client = bigquery.Client()\n",
        "  try:\n",
        "      client.get_table(table_id)\n",
        "  except NotFound:\n",
        "      return (json.dumps({'result': 'error', 'description': 'table not found','status': 200}), 200, headers)\n",
        "      \n",
        "  query = 'SELECT COUNT(*) filas FROM `{0}`.`{1}`'.format(schema, table_name)\n",
        "  query_job = client.query(query)\n",
        "  query_job.result()\n",
        "\n",
        "  rows = list(query_job)\n",
        "  return (json.dumps({'result': 'ok', 'rows': rows[0].filas, 'status': 200}), 200, headers)\n"
      ],
      "metadata": {
        "id": "ad6nMtL3IXwx"
      },
      "execution_count": 8,
      "outputs": []
    },
    {
      "cell_type": "markdown",
      "source": [
        "**Test**"
      ],
      "metadata": {
        "id": "AHD6VfmCqde9"
      }
    },
    {
      "cell_type": "code",
      "source": [
        "# Test\n",
        "class RequestArgsMock:\n",
        "    def __init__(self, **kwargs):\n",
        "        self.args = kwargs\n",
        "\n",
        "request = RequestArgsMock(table_name='employees')\n",
        "print(get_rows_from_bigquery(request))"
      ],
      "metadata": {
        "colab": {
          "base_uri": "https://localhost:8080/"
        },
        "id": "ZDj8tfTgqfLu",
        "outputId": "5be5186a-3904-4011-f574-ca427e83e366"
      },
      "execution_count": 9,
      "outputs": [
        {
          "output_type": "stream",
          "name": "stdout",
          "text": [
            "('{\"result\": \"ok\", \"rows\": 23, \"status\": 200}', 200, {'Access-Control-Allow-Origin': '*', 'Content-Type': 'application/json'})\n"
          ]
        }
      ]
    }
  ]
}